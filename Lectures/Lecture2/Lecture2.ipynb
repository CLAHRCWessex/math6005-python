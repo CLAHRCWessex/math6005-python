{
 "cells": [
  {
   "cell_type": "markdown",
   "metadata": {
    "slideshow": {
     "slide_type": "slide"
    }
   },
   "source": [
    "# Lecture 2: Introduction to Python"
   ]
  },
  {
   "cell_type": "markdown",
   "metadata": {
    "slideshow": {
     "slide_type": "fragment"
    }
   },
   "source": [
    "## Topics covered \n",
    "* Boolean operations\n",
    "* Conditional logic\n",
    "* Introduction to loops"
   ]
  },
  {
   "cell_type": "markdown",
   "metadata": {
    "slideshow": {
     "slide_type": "slide"
    }
   },
   "source": [
    "### Boolean Operators \n",
    "\n",
    "* We have seen that Python has a type `bool` that can take two values `True` or `False`\n",
    "* Boolean operators return `True` and `False` (or yes/no) answers\n"
   ]
  },
  {
   "cell_type": "markdown",
   "metadata": {
    "slideshow": {
     "slide_type": "subslide"
    }
   },
   "source": [
    "| Operation       | Description       | Operation       | Description |\n",
    "| :------------- | :----------: | -----------: | |\n",
    "| `a == b`    | `a` equal to `b`              | `a != b`    | `a` not equal to `b`             |\n",
    "| `a < b`     | `a` less than `b`             | `a > b`     | `a` greater than `b`             |\n",
    "| `a <= b`    | `a` less than or equal to `b` | `a >= b`    | `a` greater than or equal to `b` |\n",
    "\n",
    "\n",
    "* **Tip**: Remember that the `=` operator is for **assignment** \n",
    "* use `==` when you want to **compare** equality `"
   ]
  },
  {
   "cell_type": "code",
   "execution_count": 47,
   "metadata": {
    "slideshow": {
     "slide_type": "fragment"
    }
   },
   "outputs": [
    {
     "name": "stdout",
     "output_type": "stream",
     "text": [
      "True\n",
      "False\n",
      "True\n"
     ]
    }
   ],
   "source": [
    "age = 25\n",
    "print(age < 40)\n",
    "print(age >= 40)\n",
    "print(age == 25)"
   ]
  },
  {
   "cell_type": "markdown",
   "metadata": {
    "slideshow": {
     "slide_type": "slide"
    }
   },
   "source": [
    "## Conditional Logic"
   ]
  },
  {
   "cell_type": "markdown",
   "metadata": {
    "slideshow": {
     "slide_type": "fragment"
    }
   },
   "source": [
    "* Most code makes extensive use of **if then** statements\n",
    "* This makes use of the `if`, `elif`, and `else` keywords   "
   ]
  },
  {
   "cell_type": "markdown",
   "metadata": {
    "slideshow": {
     "slide_type": "fragment"
    }
   },
   "source": [
    "```python\n",
    "if <Boolean Operation 1>:\n",
    "    do something\n",
    "elif <Boolean Operation 2>:\n",
    "    do something different\n",
    "else:\n",
    "    take default action\n",
    "``` "
   ]
  },
  {
   "cell_type": "markdown",
   "metadata": {
    "slideshow": {
     "slide_type": "subslide"
    }
   },
   "source": [
    "Example 1: \n",
    "* Is the number less than 2?"
   ]
  },
  {
   "cell_type": "code",
   "execution_count": null,
   "metadata": {
    "slideshow": {
     "slide_type": "fragment"
    }
   },
   "outputs": [],
   "source": [
    "number = 5\n",
    "\n",
    "if number > 2:\n",
    "    print(\"Number > 2!\")\n",
    "else:\n",
    "    print(\"Number <=2\")"
   ]
  },
  {
   "cell_type": "markdown",
   "metadata": {
    "slideshow": {
     "slide_type": "subslide"
    }
   },
   "source": [
    "### Python whitespace\n",
    "\n",
    "* The indenting in the previous example is mandatory in Python\n",
    "* If you do not indent your `if then` statements then Python will throw an `IndentationError` exception"
   ]
  },
  {
   "cell_type": "code",
   "execution_count": 52,
   "metadata": {
    "slideshow": {
     "slide_type": "fragment"
    }
   },
   "outputs": [
    {
     "ename": "IndentationError",
     "evalue": "expected an indented block (<ipython-input-52-44d8c9689021>, line 3)",
     "output_type": "error",
     "traceback": [
      "\u001b[0;36m  File \u001b[0;32m\"<ipython-input-52-44d8c9689021>\"\u001b[0;36m, line \u001b[0;32m3\u001b[0m\n\u001b[0;31m    print(\"Number > 2!\")\u001b[0m\n\u001b[0m        ^\u001b[0m\n\u001b[0;31mIndentationError\u001b[0m\u001b[0;31m:\u001b[0m expected an indented block\n"
     ]
    }
   ],
   "source": [
    "number = 1\n",
    "if number > 2:\n",
    "print(\"Number > 2!\")\n",
    "else:\n",
    "print(\"Number <=2\")"
   ]
  },
  {
   "cell_type": "markdown",
   "metadata": {
    "slideshow": {
     "slide_type": "subslide"
    }
   },
   "source": [
    "* A more complex **if then**"
   ]
  },
  {
   "cell_type": "code",
   "execution_count": 7,
   "metadata": {
    "slideshow": {
     "slide_type": "fragment"
    }
   },
   "outputs": [
    {
     "name": "stdout",
     "output_type": "stream",
     "text": [
      "number is inside range\n"
     ]
    }
   ],
   "source": [
    "lower_limit = 10\n",
    "upper_limit = 15\n",
    "\n",
    "number_to_check = 12\n",
    "\n",
    "if number_to_check >= lower_limit and number_to_check <= upper_limit:\n",
    "    print('number is inside range')\n",
    "else:\n",
    "    print('number is outside of range')"
   ]
  },
  {
   "cell_type": "markdown",
   "metadata": {
    "slideshow": {
     "slide_type": "subslide"
    }
   },
   "source": [
    "* An example using `elif`"
   ]
  },
  {
   "cell_type": "code",
   "execution_count": 17,
   "metadata": {
    "slideshow": {
     "slide_type": "subslide"
    }
   },
   "outputs": [
    {
     "name": "stdout",
     "output_type": "stream",
     "text": [
      "There are 36 remaining years until you can draw your pension!\n"
     ]
    }
   ],
   "source": [
    "age = 32\n",
    "\n",
    "if age < 0:\n",
    "    print('Error. Please enter an age greater than zero')\n",
    "elif age < 68:\n",
    "    years_to_pension = 68 - age\n",
    "    print('There are {0} remaining years until you can draw your pension!'.format(years_to_pension))\n",
    "else:\n",
    "    print('You are eligible to draw your_pension')"
   ]
  },
  {
   "cell_type": "markdown",
   "metadata": {
    "slideshow": {
     "slide_type": "slide"
    }
   },
   "source": [
    "## Functions and if statements\n",
    "\n",
    "* we could also use a function within an `if` statement"
   ]
  },
  {
   "cell_type": "code",
   "execution_count": 1,
   "metadata": {
    "slideshow": {
     "slide_type": "subslide"
    }
   },
   "outputs": [],
   "source": [
    "def eligible_for_pension(age):\n",
    "    '''\n",
    "    Return boolean True or False to indicate if\n",
    "    person is eligible for their pension\n",
    "    \n",
    "    Keyword arguments:\n",
    "    age -- a persons age in integer years (e.g. 32 or 45)\n",
    "    '''\n",
    "    return age >= 68    "
   ]
  },
  {
   "cell_type": "code",
   "execution_count": 2,
   "metadata": {
    "slideshow": {
     "slide_type": "fragment"
    }
   },
   "outputs": [
    {
     "name": "stdout",
     "output_type": "stream",
     "text": [
      "Congratulations you can retire!\n"
     ]
    }
   ],
   "source": [
    "age = 68\n",
    "\n",
    "if eligible_for_pension(age):\n",
    "    print('Congratulations you can retire!')\n",
    "else:\n",
    "    print('You are not yet eligible for your pension')\n"
   ]
  },
  {
   "cell_type": "markdown",
   "metadata": {
    "slideshow": {
     "slide_type": "subslide"
    }
   },
   "source": [
    "* We can also use the `not` operator in Python"
   ]
  },
  {
   "cell_type": "code",
   "execution_count": null,
   "metadata": {
    "slideshow": {
     "slide_type": "fragment"
    }
   },
   "outputs": [],
   "source": [
    "age = 68\n",
    "\n",
    "if not eligible_for_pension(age):\n",
    "    print('You are not yet eligible for your pension')\n",
    "else:\n",
    "    print('Congratulations you can retire!')"
   ]
  },
  {
   "cell_type": "markdown",
   "metadata": {
    "slideshow": {
     "slide_type": "slide"
    }
   },
   "source": [
    "## Nested if statements"
   ]
  },
  {
   "cell_type": "code",
   "execution_count": 8,
   "metadata": {
    "slideshow": {
     "slide_type": "subslide"
    }
   },
   "outputs": [],
   "source": [
    "def stamp_duty(house_price, first_time_buyer):\n",
    "    '''\n",
    "    First time buyers recieve more tax relief than people buying their next home.\n",
    "    Returns float representing the stamp duty owed.\n",
    "    '''\n",
    "    if first_time_buyer:\n",
    "        #this if statement is nested within the first\n",
    "        if house_price <= 300000:\n",
    "            return 0.0\n",
    "        else: \n",
    "            return house_price * 0.05     \n",
    "    else:\n",
    "        if house_price < 125000:\n",
    "            return 0.0\n",
    "        else:\n",
    "            return house_price * 0.05"
   ]
  },
  {
   "cell_type": "code",
   "execution_count": 5,
   "metadata": {
    "slideshow": {
     "slide_type": "fragment"
    }
   },
   "outputs": [
    {
     "name": "stdout",
     "output_type": "stream",
     "text": [
      "stamp duty owed = £15500.0\n"
     ]
    }
   ],
   "source": [
    "my_first_house_price = 310000\n",
    "owed = stamp_duty(my_first_house_price, True)\n",
    "print('stamp duty owed = £{0}'.format(owed))"
   ]
  },
  {
   "cell_type": "markdown",
   "metadata": {
    "slideshow": {
     "slide_type": "slide"
    }
   },
   "source": [
    "## Introduction to iterating over data using **loops**"
   ]
  },
  {
   "cell_type": "markdown",
   "metadata": {
    "slideshow": {
     "slide_type": "subslide"
    }
   },
   "source": [
    "**Algorithms often need to do the same thing again and again**\n",
    "\n",
    "For example, an algorithm making three servings of toast\n",
    "      \n",
    "<img src=\"images/toast.jpeg\" alt=\"drawing\" width=\"500\"/>"
   ]
  },
  {
   "cell_type": "markdown",
   "metadata": {
    "slideshow": {
     "slide_type": "subslide"
    }
   },
   "source": [
    "**Making Toast Algorithm**:\n",
    "1. Put a slice of bread in the toaster\n",
    "2. Push lever down to turn on the toaster\n",
    "3. Remove the toasted bread from the toaster\n",
    "4. Put a slice of bread in the toaster\n",
    "5. Push lever down to turn on the toaster\n",
    "6. Remove the toasted bread from the toaster\n",
    "7. Put a slice of bread in the toaster\n",
    "8. Push lever down to turn on the toaster\n",
    "9. Remove the toasted bread from the toaster\n"
   ]
  },
  {
   "cell_type": "markdown",
   "metadata": {
    "slideshow": {
     "slide_type": "subslide"
    }
   },
   "source": [
    "**A better way to do this in code is to use a LOOP**\n",
    "\n",
    "Do the following 3 steps, 3 times:\n",
    "1. Put a slice of bread in the toaster\n",
    "2. Push lever down to turn on the toaster\n",
    "3. Remove the toasted bread from the toaster\n",
    "\n"
   ]
  },
  {
   "cell_type": "markdown",
   "metadata": {
    "slideshow": {
     "slide_type": "subslide"
    }
   },
   "source": [
    "* There are two types of loop in Python\n",
    "* `for` loops and `while` loops\n",
    "* We generally use `while` if we do not know the number of iterations in advance\n",
    "* We generally use `for` if we know the number of iterations in advance"
   ]
  },
  {
   "cell_type": "markdown",
   "metadata": {
    "slideshow": {
     "slide_type": "subslide"
    }
   },
   "source": [
    "### While loops"
   ]
  },
  {
   "cell_type": "code",
   "execution_count": 2,
   "metadata": {
    "slideshow": {
     "slide_type": "fragment"
    }
   },
   "outputs": [
    {
     "name": "stdout",
     "output_type": "stream",
     "text": [
      "you are currently 15 years old\n",
      "you are currently 16 years old\n",
      "you are currently 17 years old\n",
      "you are currently 18 years old\n"
     ]
    }
   ],
   "source": [
    "age = 15\n",
    "\n",
    "while age <= 18:\n",
    "      \n",
    "    print('you are currently {0} years old'.format(age))\n",
    "    \n",
    "    age += 1"
   ]
  },
  {
   "cell_type": "markdown",
   "metadata": {
    "slideshow": {
     "slide_type": "subslide"
    }
   },
   "source": [
    "### While Loop Structure\n",
    "\n",
    "* All while loops have the same structure\n",
    "* You use the `while` keyword \n",
    "* Followed by a boolean operation (e.g. `age <= 18`)\n",
    "* Beware of infinite loops!\n",
    "* Let's test a more complex while loop using a function"
   ]
  },
  {
   "cell_type": "code",
   "execution_count": 10,
   "metadata": {
    "slideshow": {
     "slide_type": "subslide"
    }
   },
   "outputs": [],
   "source": [
    "def fizzbuzz(n):\n",
    "    \"\"\"\n",
    "    For multiples of three print \"Fizz\" instead of the number \n",
    "    and for the multiples of five print \"Buzz\". \n",
    "    For numbers which are multiples of both three and five print \"FizzBuzz\".\n",
    "    \n",
    "    Keyword arguments:\n",
    "    n -- the number to test\n",
    "    \"\"\"\n",
    "    if n % 3 == 0 and n % 5 == 0:\n",
    "        print('fizzbuzz')\n",
    "    elif n % 3 == 0:\n",
    "        print('fizz')\n",
    "    elif n % 5 == 0:\n",
    "        print('buzz')\n",
    "    else:\n",
    "        print(n)"
   ]
  },
  {
   "cell_type": "code",
   "execution_count": 11,
   "metadata": {
    "slideshow": {
     "slide_type": "subslide"
    }
   },
   "outputs": [
    {
     "name": "stdout",
     "output_type": "stream",
     "text": [
      "1\n",
      "2\n",
      "fizz\n",
      "4\n",
      "buzz\n",
      "fizz\n",
      "7\n",
      "8\n",
      "fizz\n",
      "buzz\n",
      "11\n",
      "fizz\n",
      "13\n",
      "14\n",
      "fizzbuzz\n"
     ]
    }
   ],
   "source": [
    "n = 1\n",
    "limit = 15\n",
    "\n",
    "while n <= limit:\n",
    "    fizzbuzz(n)\n",
    "    n += 1"
   ]
  },
  {
   "cell_type": "markdown",
   "metadata": {
    "slideshow": {
     "slide_type": "subslide"
    }
   },
   "source": [
    "* A `while` loop example where we do **not** know the number of iterations in advance."
   ]
  },
  {
   "cell_type": "code",
   "execution_count": 12,
   "metadata": {
    "slideshow": {
     "slide_type": "fragment"
    }
   },
   "outputs": [
    {
     "name": "stdout",
     "output_type": "stream",
     "text": [
      "the word 'say' is located in list element 5\n"
     ]
    }
   ],
   "source": [
    "list_to_search = ['we', 'are', 'the', 'knights', 'who', 'say', 'ni']\n",
    "not_found = True\n",
    "word_to_find = 'say'\n",
    "current_index = 0\n",
    "index_of_word = -1\n",
    "\n",
    "while not_found:\n",
    "    if list_to_search[current_index] == word_to_find:\n",
    "        not_found = False\n",
    "        index_of_word = current_index\n",
    "        \n",
    "    current_index += 1\n",
    "\n",
    "print('the word \\'{0}\\' is located in list element {1}'.format(word_to_find, index_of_word))\n",
    "    "
   ]
  },
  {
   "cell_type": "markdown",
   "metadata": {
    "slideshow": {
     "slide_type": "subslide"
    }
   },
   "source": [
    "* The previous example can easily lead to an `IndexError`.\n",
    "* If `word_to_find` was 'shrubbery' then the loop would exhaust all list elements\n",
    "* Although we do not know the number of iterations needed, we can easily modify the `while` loop to take account of the maximum allowable iterations."
   ]
  },
  {
   "cell_type": "code",
   "execution_count": 102,
   "metadata": {
    "slideshow": {
     "slide_type": "subslide"
    }
   },
   "outputs": [
    {
     "name": "stdout",
     "output_type": "stream",
     "text": [
      "the word 'shrubbery' could not be found\n"
     ]
    }
   ],
   "source": [
    "list_to_search = ['we', 'are', 'the', 'knights', 'who', 'say', 'ni']\n",
    "\n",
    "not_found = True\n",
    "word_to_find = 'shrubbery'\n",
    "current_index = 0\n",
    "index_of_word = -1\n",
    "word_count = len(list_to_search)\n",
    "\n",
    "while not_found and current_index < word_count:\n",
    "    \n",
    "    if list_to_search[current_index] == word_to_find:\n",
    "        not_found = False\n",
    "        index_of_word = current_index\n",
    "        \n",
    "    current_index += 1\n",
    "\n",
    "if not_found: \n",
    "    print('the word \\'{0}\\' could not be found'.format(word_to_find))\n",
    "else:\n",
    "    print('the word \\'{0}\\' is located in list element {1}'.format(word_to_find, index_of_word))"
   ]
  },
  {
   "cell_type": "markdown",
   "metadata": {
    "slideshow": {
     "slide_type": "slide"
    }
   },
   "source": [
    "### For loops"
   ]
  },
  {
   "cell_type": "markdown",
   "metadata": {
    "slideshow": {
     "slide_type": "fragment"
    }
   },
   "source": [
    "* To create a **for** loop you need the following:\n",
    "* `for` keyword\n",
    "* a variable \n",
    "* the `in` keyword\n",
    "* the `range()` function - which is an built-in function in the Python library to create a sequence of numbers\n"
   ]
  },
  {
   "cell_type": "code",
   "execution_count": 49,
   "metadata": {
    "slideshow": {
     "slide_type": "subslide"
    }
   },
   "outputs": [
    {
     "name": "stdout",
     "output_type": "stream",
     "text": [
      "you are currently 0 years old\n",
      "you are currently 1 years old\n",
      "you are currently 2 years old\n",
      "you are currently 3 years old\n",
      "you are currently 4 years old\n"
     ]
    }
   ],
   "source": [
    "for age in range(5):\n",
    "    print('you are currently {0} years old'.format(age) )\n",
    "    "
   ]
  },
  {
   "cell_type": "markdown",
   "metadata": {
    "slideshow": {
     "slide_type": "fragment"
    }
   },
   "source": [
    "* notice that the loop sets age to 0 initially!\n",
    "* `range()` takes keyword arguments to set the start (inclusive, default = 0), end (exclusive) and step"
   ]
  },
  {
   "cell_type": "code",
   "execution_count": 50,
   "metadata": {
    "slideshow": {
     "slide_type": "subslide"
    }
   },
   "outputs": [
    {
     "name": "stdout",
     "output_type": "stream",
     "text": [
      "you are currently 1 years old\n",
      "you are currently 2 years old\n",
      "you are currently 3 years old\n",
      "you are currently 4 years old\n"
     ]
    }
   ],
   "source": [
    "for age in range(1, 5):\n",
    "    print('you are currently {0} years old'.format(age))"
   ]
  },
  {
   "cell_type": "code",
   "execution_count": 54,
   "metadata": {
    "slideshow": {
     "slide_type": "subslide"
    }
   },
   "outputs": [
    {
     "name": "stdout",
     "output_type": "stream",
     "text": [
      "you are currently 1 years old\n",
      "you are currently 3 years old\n"
     ]
    }
   ],
   "source": [
    "for age in range(1, 5, 2):\n",
    "    print('you are currently {0} years old'.format(age))"
   ]
  },
  {
   "cell_type": "code",
   "execution_count": 56,
   "metadata": {
    "slideshow": {
     "slide_type": "subslide"
    }
   },
   "outputs": [
    {
     "name": "stdout",
     "output_type": "stream",
     "text": [
      "1\n",
      "2\n",
      "fizz\n",
      "4\n",
      "buzz\n",
      "fizz\n",
      "7\n",
      "8\n",
      "fizz\n",
      "buzz\n",
      "11\n",
      "fizz\n",
      "13\n",
      "14\n",
      "fizzbuzz\n"
     ]
    }
   ],
   "source": [
    "limit = 15\n",
    "\n",
    "for n in range(1, limit+1):\n",
    "    fizzbuzz(n)"
   ]
  },
  {
   "cell_type": "markdown",
   "metadata": {
    "slideshow": {
     "slide_type": "subslide"
    }
   },
   "source": [
    "### Watch out for python whitespace rules!\n",
    "\n",
    "* Remember to indent the next line after `:`"
   ]
  },
  {
   "cell_type": "code",
   "execution_count": 136,
   "metadata": {
    "slideshow": {
     "slide_type": "fragment"
    }
   },
   "outputs": [
    {
     "ename": "IndentationError",
     "evalue": "expected an indented block (<ipython-input-136-a9a12e790b42>, line 4)",
     "output_type": "error",
     "traceback": [
      "\u001b[0;36m  File \u001b[0;32m\"<ipython-input-136-a9a12e790b42>\"\u001b[0;36m, line \u001b[0;32m4\u001b[0m\n\u001b[0;31m    fizzbuzz(n)\u001b[0m\n\u001b[0m           ^\u001b[0m\n\u001b[0;31mIndentationError\u001b[0m\u001b[0;31m:\u001b[0m expected an indented block\n"
     ]
    }
   ],
   "source": [
    "limit = 15\n",
    "\n",
    "for n in range(1, limit+1):\n",
    "fizzbuzz(n)"
   ]
  },
  {
   "cell_type": "markdown",
   "metadata": {
    "slideshow": {
     "slide_type": "slide"
    }
   },
   "source": [
    "## Nested Loops\n",
    "* `for` and `while` loops can be nested within each other.\n",
    "* Think of nested loops as a 'loop or loops'\n",
    "* Remember that the for each outer loop will consist of a complete iteration of an inner loop\n",
    "* **Don't panic** if you do not understand straight away!"
   ]
  },
  {
   "cell_type": "code",
   "execution_count": 13,
   "metadata": {
    "slideshow": {
     "slide_type": "subslide"
    }
   },
   "outputs": [
    {
     "name": "stdout",
     "output_type": "stream",
     "text": [
      "Outer loop iteration: 0\n",
      "\tInner loop iteration: 0\n",
      "\tInner loop iteration: 1\n",
      "\tInner loop iteration: 2\n",
      "\tInner loop iteration: 3\n",
      "\tInner loop iteration: 4\n",
      "Outer loop iteration: 1\n",
      "\tInner loop iteration: 0\n",
      "\tInner loop iteration: 1\n",
      "\tInner loop iteration: 2\n",
      "\tInner loop iteration: 3\n",
      "\tInner loop iteration: 4\n",
      "Outer loop iteration: 2\n",
      "\tInner loop iteration: 0\n",
      "\tInner loop iteration: 1\n",
      "\tInner loop iteration: 2\n",
      "\tInner loop iteration: 3\n",
      "\tInner loop iteration: 4\n"
     ]
    }
   ],
   "source": [
    "for outer_index in range(3):\n",
    "    print('Outer loop iteration: {0}'.format(outer_index))\n",
    "    \n",
    "    for inner_index in range(5):\n",
    "        print('\\tInner loop iteration: {0}'.format(inner_index))\n",
    "        "
   ]
  },
  {
   "cell_type": "markdown",
   "metadata": {
    "slideshow": {
     "slide_type": "subslide"
    }
   },
   "source": [
    "* Example 2: The inner loop now iteratures **backwards**"
   ]
  },
  {
   "cell_type": "code",
   "execution_count": 14,
   "metadata": {
    "slideshow": {
     "slide_type": "fragment"
    }
   },
   "outputs": [
    {
     "name": "stdout",
     "output_type": "stream",
     "text": [
      "Outer loop iteration: 0\n",
      "\tInner loop iteration: 5\n",
      "\tInner loop iteration: 4\n",
      "\tInner loop iteration: 3\n",
      "\tInner loop iteration: 2\n",
      "\tInner loop iteration: 1\n",
      "Outer loop iteration: 1\n",
      "\tInner loop iteration: 5\n",
      "\tInner loop iteration: 4\n",
      "\tInner loop iteration: 3\n",
      "\tInner loop iteration: 2\n",
      "\tInner loop iteration: 1\n"
     ]
    }
   ],
   "source": [
    "for outer_index in range(2):\n",
    "    print('Outer loop iteration: {0}'.format(outer_index))\n",
    "    \n",
    "    for inner_index in range(5, 0, -1):\n",
    "        print('\\tInner loop iteration: {0}'.format(inner_index))"
   ]
  },
  {
   "cell_type": "markdown",
   "metadata": {
    "slideshow": {
     "slide_type": "subslide"
    }
   },
   "source": [
    "Nested Loops Example 2.\n",
    "* Let's use a nested `for` loop to create the pattern below\n",
    "\n",
    "\n",
    "```\n",
    "1\n",
    "12\n",
    "123\n",
    "1234\n",
    "```"
   ]
  },
  {
   "cell_type": "code",
   "execution_count": 15,
   "metadata": {
    "slideshow": {
     "slide_type": "subslide"
    }
   },
   "outputs": [
    {
     "name": "stdout",
     "output_type": "stream",
     "text": [
      "\n",
      "1\n",
      "12\n",
      "123\n",
      "1234\n"
     ]
    }
   ],
   "source": [
    "for outer_index in range(1, 6):\n",
    "    \n",
    "    #remember this is a loop of loops. \n",
    "    #the loop below execute all iterations each timme the outer loop iterates\n",
    "    for inner_index in range(1, outer_index):\n",
    "        \n",
    "        #we use the end='' option of print so that it prints on the same line as previous\n",
    "        print(inner_index, end='')\n",
    "    \n",
    "    #new line\n",
    "    print('')\n",
    "        "
   ]
  },
  {
   "cell_type": "markdown",
   "metadata": {
    "slideshow": {
     "slide_type": "slide"
    }
   },
   "source": [
    "#### Nested Loops Practical Example: **Insertion Sort** ####\n",
    "\n",
    "* Given a unsorted list of integers `list_to_sort = [14,33,27,10,35,19,42,44]`, sort into ascending order.\n",
    "* Use nested loops to implement the insertion sort algorithm\n",
    "* Tip: Remember that lists in Python are **zero** indexed.  I.e. the first index is 0."
   ]
  },
  {
   "cell_type": "markdown",
   "metadata": {
    "slideshow": {
     "slide_type": "notes"
    }
   },
   "source": [
    "#### How Insertion Sort Works #### \n",
    "\n",
    "We start with an `list_to_sort`\n",
    "\n",
    "![image](images/isort1.jpg)\n",
    "\n",
    "An outer loop is initiated.  It loops across the list starting from element 1; i.e. the `range(1, len(list_to_sort)`.\n",
    "\n",
    "The first step compares `list_to_sort[1] = 33` with `list_to_sort[0] = 14`\n",
    "\n",
    "![image](images/isort2.jpg)\n",
    "\n",
    "No swaps are necessary. The values in the first two elements are already in ascending order.\n",
    "\n",
    "![image](images/isort3.jpg)\n",
    "\n",
    "The algorithm now compares `list_to_sort[2] = 27` with `list_to_sort[1] = 33`\n",
    "\n",
    "![image](images/isort4.jpg)\n",
    "\n",
    "`list_to_sort[1] > list_to_sort[2]` \n",
    "\n",
    "![image](images/isort5.jpg)\n",
    "\n",
    "It swaps the elements. \n",
    "\n",
    "`temp = list_to_sort[2]`\n",
    "\n",
    "`list_to_sort[2] = list_to_sort[1]`\n",
    "\n",
    "`list_to_sort[1] = temp`\n",
    "\n",
    "An inner loop then iterates **backwards** to check if the value 27 held `list_to_sort[1]` in can be inserted earlier in the list. Here we see that the sorted sub-list has only one element 14, and 27 is greater than 14. The inner loop terminates here.\n",
    "\n",
    "![image](images/isort6.jpg)\n",
    "\n",
    "The outer loop increments and compares, `list_to_sort[3] = 10` with `list_to_sort[2] = 33`\n",
    "\n",
    "![image](images/isort7.jpg)\n",
    "\n",
    "`list_to_sort[2] > list_to_sort[3]` \n",
    "\n",
    "![image](images/isort8.jpg)\n",
    "\n",
    "It swaps the elements. \n",
    "\n",
    "`temp = list_to_sort[3]`\n",
    "\n",
    "`list_to_sort[3] = list_to_sort[2]`\n",
    "\n",
    "`list_to_sort[2] = temp`\n",
    "\n",
    "\n",
    "![image](images/isort9.jpg)\n",
    "\n",
    "An inner loop then iterates **backwards** to check if the value 10 held `list_to_sort[2]` in can be inserted earlier in the list. \n",
    "\n",
    "The first test is:\n",
    "\n",
    "`list_to_sort[1] > list_to_sort[2]` \n",
    "\n",
    "This evaluates to `True`\n",
    "\n",
    "![image](images/isort10.jpg)\n",
    "\n",
    "It swaps the elements. \n",
    "\n",
    "`temp = list_to_sort[2]`\n",
    "\n",
    "`list_to_sort[2] = list_to_sort[1]`\n",
    "\n",
    "`list_to_sort[1] = temp`\n",
    "\n",
    "![image](images/isort11.jpg)\n",
    "\n",
    "The inner loop iterates again.  The second test performed is:\n",
    "\n",
    "`list_to_sort[0] > list_to_sort[1]`\n",
    "\n",
    "This evaluates to `True`\n",
    "\n",
    "![image](images/isort12.jpg)\n",
    "\n",
    "TIt swaps the elements. \n",
    "\n",
    "`temp = list_to_sort[1]`\n",
    "\n",
    "`list_to_sort[1] = list_to_sort[0]`\n",
    "\n",
    "`list_to_sort[0] = temp`\n",
    "\n",
    "![image](images/isort13.jpg)\n",
    "\n",
    "The outer loop increments and this process is repeated until the list is fully sorted."
   ]
  },
  {
   "cell_type": "code",
   "execution_count": 156,
   "metadata": {
    "slideshow": {
     "slide_type": "slide"
    }
   },
   "outputs": [
    {
     "name": "stdout",
     "output_type": "stream",
     "text": [
      "[10, 14, 19, 27, 33, 35, 42, 44]\n"
     ]
    }
   ],
   "source": [
    "def insertion_sort(to_sort):\n",
    "    \"\"\"\n",
    "    Sort a list of numbers using the insertion sort algorithm\n",
    "    Return a list of sorted numbers\n",
    "    \n",
    "    Keyword arguments:\n",
    "    to_sort -- an unsorted python list of numbers\n",
    "    \"\"\"\n",
    "    \n",
    "    #This is the outer loop.\n",
    "    for i in range(1, len(to_sort)):\n",
    "        \n",
    "        j = i\n",
    "        \n",
    "        #This inner while loop.  Note that backwards iteration.\n",
    "        #The while loop terminates when either:\n",
    "        #1. j == 0 i.e. the first element in the list is reached\n",
    "        #2. there is no need to do any sorting i.e. to_sort[j-1] < to_sort[j]\n",
    "        while j > 0 and to_sort[j-1] > to_sort[j]:\n",
    "            \n",
    "            #to swap the values we need a 3rd variables (temp)\n",
    "            temp = to_sort[j]\n",
    "            to_sort[j] = to_sort[j-1]\n",
    "            to_sort[j-1] = temp\n",
    "            j -= 1\n",
    "        \n",
    "    return to_sort\n",
    "\n",
    "\n",
    "list_to_sort = [14,33,27,10,35,19,42,44]\n",
    "sorted_list = insertion_sort(list_to_sort)\n",
    "print(sorted_list)"
   ]
  }
 ],
 "metadata": {
  "celltoolbar": "Slideshow",
  "kernelspec": {
   "display_name": "Python 3",
   "language": "python",
   "name": "python3"
  },
  "language_info": {
   "codemirror_mode": {
    "name": "ipython",
    "version": 3
   },
   "file_extension": ".py",
   "mimetype": "text/x-python",
   "name": "python",
   "nbconvert_exporter": "python",
   "pygments_lexer": "ipython3",
   "version": "3.7.0"
  }
 },
 "nbformat": 4,
 "nbformat_minor": 2
}
