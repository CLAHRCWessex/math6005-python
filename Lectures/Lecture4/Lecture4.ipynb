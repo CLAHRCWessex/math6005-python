{
 "cells": [
  {
   "cell_type": "markdown",
   "metadata": {
    "slideshow": {
     "slide_type": "slide"
    }
   },
   "source": [
    " # Lecture 4: MATH6005 Introduction to Python\n",
    "\n",
    "### Introduction to scientific programming using NumPy (2)\n",
    "\n",
    "Dr Carlos Lamas-Fernandez.\n"
   ]
  },
  {
   "cell_type": "markdown",
   "metadata": {
    "slideshow": {
     "slide_type": "slide"
    }
   },
   "source": [
    "## Topics covered\n",
    "\n",
    "* Recap previous lecture\n",
    "* Creating multi-dimensional arrays\n",
    "* Accessing multi-dimensional arrays (slicing continued)\n",
    "* Array operations\n",
    "* Numpy array functions\n",
    "    - Min and Max\n",
    "    - Basic statistics\n",
    "* Basic plotting\n",
    "\n"
   ]
  },
  {
   "cell_type": "markdown",
   "metadata": {
    "slideshow": {
     "slide_type": "slide"
    }
   },
   "source": [
    "## Recap from previous lecture\n",
    "\n",
    "To use numpy, we need to import it first:"
   ]
  },
  {
   "cell_type": "code",
   "execution_count": 9,
   "metadata": {
    "slideshow": {
     "slide_type": "fragment"
    }
   },
   "outputs": [],
   "source": [
    "import numpy as np"
   ]
  },
  {
   "cell_type": "markdown",
   "metadata": {
    "slideshow": {
     "slide_type": "subslide"
    }
   },
   "source": [
    "Arrays can be created explicitly:"
   ]
  },
  {
   "cell_type": "code",
   "execution_count": 10,
   "metadata": {
    "slideshow": {
     "slide_type": "fragment"
    }
   },
   "outputs": [
    {
     "name": "stdout",
     "output_type": "stream",
     "text": [
      "[[1 2]\n",
      " [3 4]]\n"
     ]
    }
   ],
   "source": [
    "a = np.array([[1, 2], [3, 4]])\n",
    "\n",
    "print(a)"
   ]
  },
  {
   "cell_type": "markdown",
   "metadata": {
    "slideshow": {
     "slide_type": "subslide"
    }
   },
   "source": [
    "They can also be created pre-populated with specific functions:"
   ]
  },
  {
   "cell_type": "code",
   "execution_count": 11,
   "metadata": {
    "slideshow": {
     "slide_type": "fragment"
    }
   },
   "outputs": [
    {
     "name": "stdout",
     "output_type": "stream",
     "text": [
      "[[0. 0.]\n",
      " [0. 0.]]\n"
     ]
    }
   ],
   "source": [
    "b = np.zeros((2, 2))\n",
    "\n",
    "print(b)"
   ]
  },
  {
   "cell_type": "markdown",
   "metadata": {
    "slideshow": {
     "slide_type": "subslide"
    }
   },
   "source": [
    "Arrays have a handful of data types (e.g.: integer, float):"
   ]
  },
  {
   "cell_type": "code",
   "execution_count": 12,
   "metadata": {
    "slideshow": {
     "slide_type": "fragment"
    }
   },
   "outputs": [
    {
     "name": "stdout",
     "output_type": "stream",
     "text": [
      "[[1 2]\n",
      " [3 4]]\n",
      "<class 'numpy.int32'>\n"
     ]
    }
   ],
   "source": [
    "print(a)\n",
    "print(type(a[0,0]))"
   ]
  },
  {
   "cell_type": "code",
   "execution_count": 13,
   "metadata": {
    "slideshow": {
     "slide_type": "fragment"
    }
   },
   "outputs": [
    {
     "name": "stdout",
     "output_type": "stream",
     "text": [
      "[[0. 0.]\n",
      " [0. 0.]]\n",
      "<class 'numpy.float64'>\n"
     ]
    }
   ],
   "source": [
    "print(b)\n",
    "print(type(b[0,0]))"
   ]
  },
  {
   "cell_type": "markdown",
   "metadata": {
    "slideshow": {
     "slide_type": "slide"
    }
   },
   "source": [
    "And we need to be careful with these!\n",
    "\n",
    "\n",
    "We can use `a[0,0] = 1` as an index for an array, because it is an integer."
   ]
  },
  {
   "cell_type": "code",
   "execution_count": 14,
   "metadata": {
    "slideshow": {
     "slide_type": "fragment"
    }
   },
   "outputs": [
    {
     "name": "stdout",
     "output_type": "stream",
     "text": [
      "[0 1 2 3 4]\n"
     ]
    }
   ],
   "source": [
    "c = np.arange(5)\n",
    "print(c)"
   ]
  },
  {
   "cell_type": "code",
   "execution_count": 15,
   "metadata": {
    "scrolled": true,
    "slideshow": {
     "slide_type": "fragment"
    }
   },
   "outputs": [
    {
     "name": "stdout",
     "output_type": "stream",
     "text": [
      "1\n"
     ]
    },
    {
     "data": {
      "text/plain": [
       "1"
      ]
     },
     "execution_count": 15,
     "metadata": {},
     "output_type": "execute_result"
    }
   ],
   "source": [
    "print(a[0,0])\n",
    "c[a[0,0]]"
   ]
  },
  {
   "cell_type": "markdown",
   "metadata": {},
   "source": [
    "But we cannot use `b[0,0] = 0.0` as an index for `c`, because it is a **float**"
   ]
  },
  {
   "cell_type": "code",
   "execution_count": 16,
   "metadata": {},
   "outputs": [
    {
     "name": "stdout",
     "output_type": "stream",
     "text": [
      "0.0\n"
     ]
    },
    {
     "ename": "IndexError",
     "evalue": "only integers, slices (`:`), ellipsis (`...`), numpy.newaxis (`None`) and integer or boolean arrays are valid indices",
     "output_type": "error",
     "traceback": [
      "\u001b[1;31m---------------------------------------------------------------------------\u001b[0m",
      "\u001b[1;31mIndexError\u001b[0m                                Traceback (most recent call last)",
      "\u001b[1;32m<ipython-input-16-502c096ed77a>\u001b[0m in \u001b[0;36m<module>\u001b[1;34m\u001b[0m\n\u001b[0;32m      1\u001b[0m \u001b[0mprint\u001b[0m\u001b[1;33m(\u001b[0m\u001b[0mb\u001b[0m\u001b[1;33m[\u001b[0m\u001b[1;36m0\u001b[0m\u001b[1;33m,\u001b[0m\u001b[1;36m0\u001b[0m\u001b[1;33m]\u001b[0m\u001b[1;33m)\u001b[0m\u001b[1;33m\u001b[0m\u001b[1;33m\u001b[0m\u001b[0m\n\u001b[1;32m----> 2\u001b[1;33m \u001b[0mc\u001b[0m\u001b[1;33m[\u001b[0m\u001b[0mb\u001b[0m\u001b[1;33m[\u001b[0m\u001b[1;36m0\u001b[0m\u001b[1;33m,\u001b[0m\u001b[1;36m0\u001b[0m\u001b[1;33m]\u001b[0m\u001b[1;33m]\u001b[0m\u001b[1;33m\u001b[0m\u001b[1;33m\u001b[0m\u001b[0m\n\u001b[0m",
      "\u001b[1;31mIndexError\u001b[0m: only integers, slices (`:`), ellipsis (`...`), numpy.newaxis (`None`) and integer or boolean arrays are valid indices"
     ]
    }
   ],
   "source": [
    "print(b[0,0])\n",
    "c[b[0,0]]"
   ]
  },
  {
   "cell_type": "markdown",
   "metadata": {
    "slideshow": {
     "slide_type": "slide"
    }
   },
   "source": [
    "To avoid errors, it is a good practice to specify them, using `dtype=...`:"
   ]
  },
  {
   "cell_type": "code",
   "execution_count": 17,
   "metadata": {},
   "outputs": [
    {
     "name": "stdout",
     "output_type": "stream",
     "text": [
      "[[0 0]\n",
      " [0 0]]\n"
     ]
    }
   ],
   "source": [
    "d = np.zeros((2,2), dtype=np.int32)\n",
    "\n",
    "print(d)"
   ]
  },
  {
   "cell_type": "code",
   "execution_count": 18,
   "metadata": {},
   "outputs": [
    {
     "name": "stdout",
     "output_type": "stream",
     "text": [
      "<class 'numpy.int32'>\n"
     ]
    }
   ],
   "source": [
    "print(type(d[0,0]))"
   ]
  },
  {
   "cell_type": "code",
   "execution_count": 19,
   "metadata": {},
   "outputs": [
    {
     "name": "stdout",
     "output_type": "stream",
     "text": [
      "0\n"
     ]
    },
    {
     "data": {
      "text/plain": [
       "0"
      ]
     },
     "execution_count": 19,
     "metadata": {},
     "output_type": "execute_result"
    }
   ],
   "source": [
    "print(d[0,0])\n",
    "c[d[0,0]]"
   ]
  },
  {
   "cell_type": "markdown",
   "metadata": {
    "slideshow": {
     "slide_type": "slide"
    }
   },
   "source": [
    "## Creating multi-dimensional arrays\n",
    "\n",
    "There are a few ways of creating multi-dimensional arrays in numpy:\n",
    "* Providing the data explicitly\n",
    "* Reading a file (eg. csv)\n",
    "* Built-in functions\n",
    "    * `np.zeros`\n",
    "    * `np.ones`\n",
    "    * `np.full`\n",
    "    * `np.random`\n"
   ]
  },
  {
   "cell_type": "markdown",
   "metadata": {
    "slideshow": {
     "slide_type": "slide"
    }
   },
   "source": [
    "### Providing the data explicitly\n",
    "This is what we have done before, converting a list of lists into an array. \n",
    "With three dimensions:"
   ]
  },
  {
   "cell_type": "code",
   "execution_count": 20,
   "metadata": {},
   "outputs": [
    {
     "name": "stdout",
     "output_type": "stream",
     "text": [
      "[[[11 12]\n",
      "  [13 14]]\n",
      "\n",
      " [[21 22]\n",
      "  [23 24]]\n",
      "\n",
      " [[31 32]\n",
      "  [33 34]]]\n"
     ]
    }
   ],
   "source": [
    "td = np.array([\n",
    "              [[11,12], [13,14]],\n",
    "              [[21,22], [23,24]],\n",
    "              [[31,32], [33,34]]\n",
    "              ])\n",
    "\n",
    "print(td)"
   ]
  },
  {
   "cell_type": "markdown",
   "metadata": {},
   "source": [
    "Since this is a 3D matrix, we can access its contents with **three** indices, eg. `[0,1,1]`"
   ]
  },
  {
   "cell_type": "code",
   "execution_count": 21,
   "metadata": {},
   "outputs": [
    {
     "data": {
      "text/plain": [
       "14"
      ]
     },
     "execution_count": 21,
     "metadata": {},
     "output_type": "execute_result"
    }
   ],
   "source": [
    "td[0,1,1]"
   ]
  },
  {
   "attachments": {
    "salaries.PNG": {
     "image/png": "[encoded data removed]"
    }
   },
   "cell_type": "markdown",
   "metadata": {
    "slideshow": {
     "slide_type": "slide"
    }
   },
   "source": [
    "### Reading a file\n",
    "It is done exactly as in the one-dimensional case. Let us consider the following CSV file:\n",
    "![salaries.PNG](attachment:salaries.PNG)"
   ]
  },
  {
   "cell_type": "code",
   "execution_count": 22,
   "metadata": {
    "slideshow": {
     "slide_type": "fragment"
    }
   },
   "outputs": [],
   "source": [
    "file_name = 'data/salaries.csv'\n",
    "salary_data = np.genfromtxt(file_name, skip_header=1, delimiter=',')"
   ]
  },
  {
   "cell_type": "markdown",
   "metadata": {
    "slideshow": {
     "slide_type": "subslide"
    }
   },
   "source": [
    "**Tip:** The `shape` property tells you the shape of the data you have just read:"
   ]
  },
  {
   "cell_type": "code",
   "execution_count": 23,
   "metadata": {
    "slideshow": {
     "slide_type": "fragment"
    }
   },
   "outputs": [
    {
     "data": {
      "text/plain": [
       "(9, 4)"
      ]
     },
     "execution_count": 23,
     "metadata": {},
     "output_type": "execute_result"
    }
   ],
   "source": [
    "salary_data.shape"
   ]
  },
  {
   "cell_type": "code",
   "execution_count": 24,
   "metadata": {
    "slideshow": {
     "slide_type": "fragment"
    }
   },
   "outputs": [
    {
     "name": "stdout",
     "output_type": "stream",
     "text": [
      "[[0.00e+00 2.20e+01 0.00e+00 7.20e+04]\n",
      " [1.00e+00 4.70e+01 0.00e+00 2.70e+04]\n",
      " [2.00e+00 3.50e+01 0.00e+00 3.60e+04]\n",
      " [3.00e+00 3.30e+01 1.00e+00 1.90e+04]\n",
      " [4.00e+00 3.40e+01 1.00e+00 1.04e+05]\n",
      " [5.00e+00 6.50e+01 1.00e+00 8.60e+04]\n",
      " [6.00e+00 5.40e+01 1.00e+00 1.04e+05]\n",
      " [7.00e+00 1.90e+01 0.00e+00 2.10e+04]\n",
      " [8.00e+00 6.20e+01 1.00e+00 5.20e+04]]\n"
     ]
    }
   ],
   "source": [
    "print(salary_data)"
   ]
  },
  {
   "attachments": {
    "salaries_extended.PNG": {
     "image/png": "[encoded data removed]"
    }
   },
   "cell_type": "markdown",
   "metadata": {
    "slideshow": {
     "slide_type": "slide"
    }
   },
   "source": [
    "#### Skipping rows and colums\n",
    "\n",
    "We have seen how to skip rows at the top (skip_header). We can also skip columns.\n",
    "\n",
    "For example, imagine that we have a file called `salaries_extended.csv` that looks that the one below; and we are only interested in `Age` and `Salary`:\n",
    "\n",
    "![salaries_extended.PNG](attachment:salaries_extended.PNG)\n"
   ]
  },
  {
   "cell_type": "markdown",
   "metadata": {
    "slideshow": {
     "slide_type": "subslide"
    }
   },
   "source": [
    "\n",
    "We can use the option `usecols` and specify a tuple with the columns we want to read. In this case, we want only columns `2` and `4`.\n",
    "**Tip:** The index of the first column is `0`"
   ]
  },
  {
   "cell_type": "code",
   "execution_count": 25,
   "metadata": {},
   "outputs": [
    {
     "name": "stdout",
     "output_type": "stream",
     "text": [
      "[[    -1      0     22     -1  72000]\n",
      " [    -1      1     47     -1  27000]\n",
      " [    -1      2     35     -1  36000]\n",
      " [    -1      3     33     -1  19000]\n",
      " [    -1      4     34     -1 104000]\n",
      " [    -1      5     65     -1  86000]\n",
      " [    -1      6     54     -1 104000]\n",
      " [    -1      7     19     -1  21000]\n",
      " [    -1      8     62     -1  52000]]\n"
     ]
    }
   ],
   "source": [
    "ext_salary_data = np.genfromtxt('data/salaries_extended.csv', skip_header=1, delimiter=',', dtype=np.int32)\n",
    "print(ext_salary_data)"
   ]
  },
  {
   "cell_type": "code",
   "execution_count": 26,
   "metadata": {},
   "outputs": [
    {
     "name": "stdout",
     "output_type": "stream",
     "text": [
      "[[    22  72000]\n",
      " [    47  27000]\n",
      " [    35  36000]\n",
      " [    33  19000]\n",
      " [    34 104000]\n",
      " [    65  86000]\n",
      " [    54 104000]\n",
      " [    19  21000]\n",
      " [    62  52000]]\n"
     ]
    }
   ],
   "source": [
    "ext_salary_data = np.genfromtxt('data/salaries_extended.csv', skip_header=1, usecols=(2,4), delimiter=',', dtype=np.int32)\n",
    "print(ext_salary_data)"
   ]
  },
  {
   "cell_type": "markdown",
   "metadata": {
    "slideshow": {
     "slide_type": "slide"
    }
   },
   "source": [
    "### Built-in functions\n",
    "* `np.zeros` Creates an array full of zeros\n",
    "* `np.ones` Creates an array full of ones\n",
    "* `np.full` Creates an array full of whatever\n",
    "\n",
    "\n",
    "Their syntax is similar, specify shape with a tuple (eg `(2,2)` for a 2 by 2 matrix) and optionally a type with `dtype`:"
   ]
  },
  {
   "cell_type": "code",
   "execution_count": 27,
   "metadata": {},
   "outputs": [
    {
     "data": {
      "text/plain": [
       "array([[0, 0],\n",
       "       [0, 0]])"
      ]
     },
     "execution_count": 27,
     "metadata": {},
     "output_type": "execute_result"
    }
   ],
   "source": [
    "np.zeros((2,2), dtype=np.int32)"
   ]
  },
  {
   "cell_type": "code",
   "execution_count": 28,
   "metadata": {},
   "outputs": [
    {
     "data": {
      "text/plain": [
       "array([[[1., 1.],\n",
       "        [1., 1.]],\n",
       "\n",
       "       [[1., 1.],\n",
       "        [1., 1.]]])"
      ]
     },
     "execution_count": 28,
     "metadata": {},
     "output_type": "execute_result"
    }
   ],
   "source": [
    "np.ones((2,2,2), dtype=np.float64)"
   ]
  },
  {
   "cell_type": "markdown",
   "metadata": {
    "slideshow": {
     "slide_type": "subslide"
    }
   },
   "source": [
    "With `np.full`, you need to specify what it should be full of as well:"
   ]
  },
  {
   "cell_type": "code",
   "execution_count": 29,
   "metadata": {
    "slideshow": {
     "slide_type": "fragment"
    }
   },
   "outputs": [
    {
     "data": {
      "text/plain": [
       "array([[-7, -7, -7, -7, -7],\n",
       "       [-7, -7, -7, -7, -7],\n",
       "       [-7, -7, -7, -7, -7]])"
      ]
     },
     "execution_count": 29,
     "metadata": {},
     "output_type": "execute_result"
    }
   ],
   "source": [
    "np.full((3,5), -7, dtype=np.int32)"
   ]
  },
  {
   "cell_type": "markdown",
   "metadata": {
    "slideshow": {
     "slide_type": "slide"
    }
   },
   "source": [
    "### Generating random numbers\n",
    "\n",
    "There are a few functions that allow you to fill arrays with random numbers. They are stored in `np.random`\n",
    "* `np.random.uniform` -> Uniform distribution\n",
    "* `np.random.normal` -> Normal distribution\n",
    "* `np.random.randint` -> Random integers\n",
    "* Many others available, check the documentation!"
   ]
  },
  {
   "cell_type": "markdown",
   "metadata": {},
   "source": [
    "Each needs to be provided with a shape and their own parameters:"
   ]
  },
  {
   "cell_type": "markdown",
   "metadata": {},
   "source": [
    "For example, `randint` requires a \"low\" and a \"high\" integer. `low` might be included, but `high` is not:"
   ]
  },
  {
   "cell_type": "code",
   "execution_count": 30,
   "metadata": {
    "slideshow": {
     "slide_type": "fragment"
    }
   },
   "outputs": [
    {
     "data": {
      "text/plain": [
       "array([[3, 8, 5],\n",
       "       [4, 9, 4],\n",
       "       [7, 7, 9]])"
      ]
     },
     "execution_count": 30,
     "metadata": {},
     "output_type": "execute_result"
    }
   ],
   "source": [
    "np.random.randint(size=(3,3), low=3, high=10)"
   ]
  },
  {
   "cell_type": "markdown",
   "metadata": {
    "slideshow": {
     "slide_type": "subslide"
    }
   },
   "source": [
    "In the `normal` distribution, `loc` is the keyword for the mean and `scale` is the keyword for the standard deviation:"
   ]
  },
  {
   "cell_type": "code",
   "execution_count": 31,
   "metadata": {},
   "outputs": [
    {
     "data": {
      "text/plain": [
       "array([[[ 1.56102473,  4.4066944 ,  9.94043353],\n",
       "        [ 2.00191752,  8.03796028,  8.31203351],\n",
       "        [ 2.31329132,  4.54211438,  6.78181701]],\n",
       "\n",
       "       [[11.62589207,  3.64292952,  3.68588771],\n",
       "        [-0.34768209,  3.55542914,  5.0352781 ],\n",
       "        [ 1.47468857,  2.4835907 ,  8.34514108]]])"
      ]
     },
     "execution_count": 31,
     "metadata": {},
     "output_type": "execute_result"
    }
   ],
   "source": [
    "np.random.normal(size=(2, 3, 3), loc=5, scale=3)"
   ]
  },
  {
   "cell_type": "markdown",
   "metadata": {
    "slideshow": {
     "slide_type": "slide"
    }
   },
   "source": [
    "## Accessing multi-dimensional arrays\n",
    "\n",
    "A single element of a multi-dimensional array can be accessed simply by stating the position in square brackets, \n",
    "eg. the first element of a matrix can be accessed with `[0,0]`"
   ]
  },
  {
   "cell_type": "code",
   "execution_count": 32,
   "metadata": {
    "slideshow": {
     "slide_type": "fragment"
    }
   },
   "outputs": [
    {
     "name": "stdout",
     "output_type": "stream",
     "text": [
      "[[1. 2.]\n",
      " [3. 4.]]\n"
     ]
    },
    {
     "data": {
      "text/plain": [
       "1.0"
      ]
     },
     "execution_count": 32,
     "metadata": {},
     "output_type": "execute_result"
    }
   ],
   "source": [
    "a = np.array([[1, 2], [3, 4]], dtype=np.float64)\n",
    "print(a)\n",
    "\n",
    "a[0,0]"
   ]
  },
  {
   "cell_type": "markdown",
   "metadata": {
    "slideshow": {
     "slide_type": "subslide"
    }
   },
   "source": [
    "If we only use one index, we would get a full row:"
   ]
  },
  {
   "cell_type": "code",
   "execution_count": 33,
   "metadata": {},
   "outputs": [
    {
     "data": {
      "text/plain": [
       "array([1., 2.])"
      ]
     },
     "execution_count": 33,
     "metadata": {},
     "output_type": "execute_result"
    }
   ],
   "source": [
    "a[0] "
   ]
  },
  {
   "cell_type": "markdown",
   "metadata": {
    "slideshow": {
     "slide_type": "fragment"
    }
   },
   "source": [
    "This can also be done using slicing.\n",
    "\n",
    "\n",
    "**Remember:** A slice is defined as `[start:end:step]`. Since we want a full row, we can use just `:`"
   ]
  },
  {
   "cell_type": "code",
   "execution_count": 34,
   "metadata": {},
   "outputs": [
    {
     "data": {
      "text/plain": [
       "array([1., 2.])"
      ]
     },
     "execution_count": 34,
     "metadata": {},
     "output_type": "execute_result"
    }
   ],
   "source": [
    "a[0,:]"
   ]
  },
  {
   "cell_type": "markdown",
   "metadata": {
    "slideshow": {
     "slide_type": "slide"
    }
   },
   "source": [
    "Slices can also be used on multiple indices simultaneosly.\n",
    "\n",
    "Recall the 3D matrix example:"
   ]
  },
  {
   "cell_type": "code",
   "execution_count": 35,
   "metadata": {
    "slideshow": {
     "slide_type": "fragment"
    }
   },
   "outputs": [],
   "source": [
    "td = np.array([\n",
    "              [[11,12], [13,14]], \n",
    "              [[21,22], [23,24]],\n",
    "              [[31,32], [33,34]]\n",
    "              ])"
   ]
  },
  {
   "cell_type": "code",
   "execution_count": 36,
   "metadata": {
    "slideshow": {
     "slide_type": "slide"
    }
   },
   "outputs": [
    {
     "name": "stdout",
     "output_type": "stream",
     "text": [
      "[[[11 12]\n",
      "  [13 14]]\n",
      "\n",
      " [[21 22]\n",
      "  [23 24]]\n",
      "\n",
      " [[31 32]\n",
      "  [33 34]]]\n"
     ]
    }
   ],
   "source": [
    "# Meetoo question!\n",
    "print(td)\n",
    "slice = td[:,1,:]\n"
   ]
  },
  {
   "cell_type": "code",
   "execution_count": 37,
   "metadata": {
    "slideshow": {
     "slide_type": "fragment"
    }
   },
   "outputs": [],
   "source": [
    "# Meetoo question!\n",
    "# print('\\nSlice [:,1,:] is:\\n')\n",
    "# print(slice)\n",
    "\n",
    "# print('\\nShape is {0}:'.format(slice.shape))"
   ]
  },
  {
   "cell_type": "markdown",
   "metadata": {
    "slideshow": {
     "slide_type": "slide"
    }
   },
   "source": [
    "**Remember:** A slice is only a subset of an array. \n",
    "\n",
    "If we assign a slice to a variable and modify it, we are modifying the original array."
   ]
  },
  {
   "cell_type": "code",
   "execution_count": 38,
   "metadata": {
    "slideshow": {
     "slide_type": "subslide"
    }
   },
   "outputs": [
    {
     "name": "stdout",
     "output_type": "stream",
     "text": [
      "Original matrix:\n",
      "[[1 2]\n",
      " [3 4]\n",
      " [5 6]]\n"
     ]
    }
   ],
   "source": [
    "original = np.array([[1, 2], [3, 4], [5, 6]])\n",
    "print('Original matrix:')\n",
    "print(original)"
   ]
  },
  {
   "cell_type": "code",
   "execution_count": 39,
   "metadata": {
    "slideshow": {
     "slide_type": "fragment"
    }
   },
   "outputs": [
    {
     "name": "stdout",
     "output_type": "stream",
     "text": [
      "\n",
      "Middle row: [3 4]\n"
     ]
    }
   ],
   "source": [
    "middle_row = original[1,:]\n",
    "print('\\nMiddle row: {0}'.format(middle_row))"
   ]
  },
  {
   "cell_type": "code",
   "execution_count": 40,
   "metadata": {
    "slideshow": {
     "slide_type": "fragment"
    }
   },
   "outputs": [
    {
     "name": "stdout",
     "output_type": "stream",
     "text": [
      "Middle row modified: [0 4]\n"
     ]
    }
   ],
   "source": [
    "middle_row[0] = 0\n",
    "print('Middle row modified: {0}'.format(middle_row))"
   ]
  },
  {
   "cell_type": "code",
   "execution_count": 41,
   "metadata": {
    "slideshow": {
     "slide_type": "fragment"
    }
   },
   "outputs": [
    {
     "name": "stdout",
     "output_type": "stream",
     "text": [
      "\n",
      "After modifying the slice the original matrix becomes:\n",
      "[[1 2]\n",
      " [0 4]\n",
      " [5 6]]\n"
     ]
    }
   ],
   "source": [
    "# This changed original!!!\n",
    "print('\\nAfter modifying the slice the original matrix becomes:')\n",
    "print(original)"
   ]
  },
  {
   "cell_type": "markdown",
   "metadata": {
    "slideshow": {
     "slide_type": "slide"
    }
   },
   "source": [
    "This behaviour **also** occurs inside functions:"
   ]
  },
  {
   "cell_type": "code",
   "execution_count": 42,
   "metadata": {},
   "outputs": [],
   "source": [
    "def zero_zero_to_seven(input_array):\n",
    "    input_array[0,0] = 7"
   ]
  },
  {
   "cell_type": "code",
   "execution_count": 43,
   "metadata": {},
   "outputs": [
    {
     "data": {
      "text/plain": [
       "array([[7., 1., 1., 1., 1.],\n",
       "       [7., 1., 1., 1., 1.],\n",
       "       [1., 1., 1., 1., 1.],\n",
       "       [1., 1., 1., 7., 1.],\n",
       "       [1., 1., 1., 1., 1.]])"
      ]
     },
     "execution_count": 43,
     "metadata": {},
     "output_type": "execute_result"
    }
   ],
   "source": [
    "test_array = np.ones((5,5))\n",
    "\n",
    "zero_zero_to_seven(test_array[1:2,:])\n",
    "\n",
    "zero_zero_to_seven(test_array[3:,3:])\n",
    "\n",
    "zero_zero_to_seven(test_array)\n",
    "\n",
    "test_array"
   ]
  },
  {
   "cell_type": "markdown",
   "metadata": {
    "slideshow": {
     "slide_type": "slide"
    }
   },
   "source": [
    "**Warning** but this does not occur if the function **redefines** the matrix:"
   ]
  },
  {
   "cell_type": "code",
   "execution_count": 44,
   "metadata": {},
   "outputs": [],
   "source": [
    "def array_times_seven(input_array):\n",
    "    input_array = input_array*7"
   ]
  },
  {
   "cell_type": "code",
   "execution_count": 45,
   "metadata": {},
   "outputs": [
    {
     "data": {
      "text/plain": [
       "array([[1., 1., 1., 1., 1.],\n",
       "       [1., 1., 1., 1., 1.],\n",
       "       [1., 1., 1., 1., 1.],\n",
       "       [1., 1., 1., 1., 1.],\n",
       "       [1., 1., 1., 1., 1.]])"
      ]
     },
     "execution_count": 45,
     "metadata": {},
     "output_type": "execute_result"
    }
   ],
   "source": [
    "test_array = np.ones((5,5))\n",
    "\n",
    "array_times_seven(test_array[3:,3:])\n",
    "\n",
    "test_array"
   ]
  },
  {
   "cell_type": "code",
   "execution_count": 46,
   "metadata": {},
   "outputs": [
    {
     "data": {
      "text/plain": [
       "array([[1., 1., 1., 1., 1.],\n",
       "       [1., 1., 1., 1., 1.],\n",
       "       [1., 1., 1., 1., 1.],\n",
       "       [1., 1., 1., 7., 7.],\n",
       "       [1., 1., 1., 7., 7.]])"
      ]
     },
     "execution_count": 46,
     "metadata": {},
     "output_type": "execute_result"
    }
   ],
   "source": [
    "def array_times_seven_view(input_array):\n",
    "    input_array[:,:] = input_array*7\n",
    "    \n",
    "test_array = np.ones((5,5))\n",
    "\n",
    "array_times_seven_view(test_array[3:,3:])\n",
    "\n",
    "test_array "
   ]
  },
  {
   "cell_type": "markdown",
   "metadata": {
    "slideshow": {
     "slide_type": "slide"
    }
   },
   "source": [
    "### Meetoo question"
   ]
  },
  {
   "cell_type": "code",
   "execution_count": 48,
   "metadata": {
    "slideshow": {
     "slide_type": "fragment"
    }
   },
   "outputs": [],
   "source": [
    "# Meetoo question!\n",
    "\n",
    "def change_slice(arr):\n",
    "    arr = arr*3\n",
    "    arr[3:] = 0\n",
    "\n",
    "arr = np.ones(5)\n",
    "\n",
    "change_slice(arr)\n",
    "\n",
    "# print(arr)\n"
   ]
  },
  {
   "cell_type": "markdown",
   "metadata": {
    "slideshow": {
     "slide_type": "slide"
    }
   },
   "source": [
    "## Testing conditions on arrays"
   ]
  },
  {
   "cell_type": "markdown",
   "metadata": {
    "slideshow": {
     "slide_type": "-"
    }
   },
   "source": [
    "We can also test conditions on arrays. \n",
    "For example, let's check which salaries from the `salary_data` array are above 30k (recall the salary value is in the 4th column, index 3)"
   ]
  },
  {
   "cell_type": "code",
   "execution_count": 49,
   "metadata": {
    "slideshow": {
     "slide_type": "subslide"
    }
   },
   "outputs": [
    {
     "name": "stdout",
     "output_type": "stream",
     "text": [
      "[[0.00e+00 2.20e+01 0.00e+00 7.20e+04]\n",
      " [1.00e+00 4.70e+01 0.00e+00 2.70e+04]\n",
      " [2.00e+00 3.50e+01 0.00e+00 3.60e+04]\n",
      " [3.00e+00 3.30e+01 1.00e+00 1.90e+04]\n",
      " [4.00e+00 3.40e+01 1.00e+00 1.04e+05]\n",
      " [5.00e+00 6.50e+01 1.00e+00 8.60e+04]\n",
      " [6.00e+00 5.40e+01 1.00e+00 1.04e+05]\n",
      " [7.00e+00 1.90e+01 0.00e+00 2.10e+04]\n",
      " [8.00e+00 6.20e+01 1.00e+00 5.20e+04]]\n"
     ]
    }
   ],
   "source": [
    "print(salary_data)"
   ]
  },
  {
   "cell_type": "code",
   "execution_count": 50,
   "metadata": {},
   "outputs": [
    {
     "name": "stdout",
     "output_type": "stream",
     "text": [
      "[ True False  True False  True  True  True False  True]\n"
     ]
    }
   ],
   "source": [
    "upper_salaries = salary_data[:,3] >= 30000\n",
    "print(upper_salaries)"
   ]
  },
  {
   "cell_type": "markdown",
   "metadata": {
    "slideshow": {
     "slide_type": "subslide"
    }
   },
   "source": [
    "This tells us which rows verify our condition. But this kind of array can be used as index. \n",
    "\n",
    "Let's print now all the entries for these rows:"
   ]
  },
  {
   "cell_type": "code",
   "execution_count": 51,
   "metadata": {},
   "outputs": [
    {
     "data": {
      "text/plain": [
       "array([[0.00e+00, 2.20e+01, 0.00e+00, 7.20e+04],\n",
       "       [2.00e+00, 3.50e+01, 0.00e+00, 3.60e+04],\n",
       "       [4.00e+00, 3.40e+01, 1.00e+00, 1.04e+05],\n",
       "       [5.00e+00, 6.50e+01, 1.00e+00, 8.60e+04],\n",
       "       [6.00e+00, 5.40e+01, 1.00e+00, 1.04e+05],\n",
       "       [8.00e+00, 6.20e+01, 1.00e+00, 5.20e+04]])"
      ]
     },
     "execution_count": 51,
     "metadata": {},
     "output_type": "execute_result"
    }
   ],
   "source": [
    "salary_data[upper_salaries]"
   ]
  },
  {
   "cell_type": "code",
   "execution_count": 52,
   "metadata": {
    "slideshow": {
     "slide_type": "fragment"
    }
   },
   "outputs": [
    {
     "name": "stdout",
     "output_type": "stream",
     "text": [
      "IDs of employees with salary over 30k:\n"
     ]
    },
    {
     "data": {
      "text/plain": [
       "array([0., 2., 4., 5., 6., 8.])"
      ]
     },
     "execution_count": 52,
     "metadata": {},
     "output_type": "execute_result"
    }
   ],
   "source": [
    "\n",
    "print('IDs of employees with salary over 30k:')\n",
    "salary_data[upper_salaries][:,0]"
   ]
  },
  {
   "cell_type": "markdown",
   "metadata": {
    "slideshow": {
     "slide_type": "subslide"
    }
   },
   "source": [
    "We can use this to calculate, for example, the average of these salaries:"
   ]
  },
  {
   "cell_type": "code",
   "execution_count": 53,
   "metadata": {},
   "outputs": [
    {
     "data": {
      "text/plain": [
       "75666.66666666667"
      ]
     },
     "execution_count": 53,
     "metadata": {},
     "output_type": "execute_result"
    }
   ],
   "source": [
    "np.mean(salary_data[upper_salaries][:,3]) "
   ]
  },
  {
   "cell_type": "markdown",
   "metadata": {
    "slideshow": {
     "slide_type": "fragment"
    }
   },
   "source": [
    "If we want to know the mean of the salaries below 30k, we can just negate `upper_salaries` with the `~` operator:"
   ]
  },
  {
   "cell_type": "code",
   "execution_count": 54,
   "metadata": {},
   "outputs": [
    {
     "name": "stdout",
     "output_type": "stream",
     "text": [
      "[ True False  True False  True  True  True False  True]\n",
      "[False  True False  True False False False  True False]\n"
     ]
    }
   ],
   "source": [
    "print(upper_salaries)\n",
    "print(~upper_salaries)"
   ]
  },
  {
   "cell_type": "code",
   "execution_count": 55,
   "metadata": {},
   "outputs": [
    {
     "data": {
      "text/plain": [
       "22333.333333333332"
      ]
     },
     "execution_count": 55,
     "metadata": {},
     "output_type": "execute_result"
    }
   ],
   "source": [
    "np.mean(salary_data[~upper_salaries][:,3])"
   ]
  },
  {
   "cell_type": "markdown",
   "metadata": {
    "slideshow": {
     "slide_type": "slide"
    }
   },
   "source": [
    "## Array operations\n",
    "These operators are designed to work with `bool` arrays, i.e. the ones containing `True` or `False` values.\n",
    "\n",
    "Let's take a look at the following logical functions and operators:\n",
    "* Negation operator `~`\n",
    "* And operator `&`\n",
    "* Or operator `|`\n",
    "* `np.all()` function\n",
    "* `np.any()` function"
   ]
  },
  {
   "cell_type": "code",
   "execution_count": 56,
   "metadata": {
    "slideshow": {
     "slide_type": "subslide"
    }
   },
   "outputs": [
    {
     "name": "stdout",
     "output_type": "stream",
     "text": [
      "b1 =\n",
      " [[ True  True  True False]\n",
      " [ True  True False  True]]\n",
      "\n",
      "b2 =\n",
      " [[ True  True False False]\n",
      " [False  True  True  True]]\n"
     ]
    }
   ],
   "source": [
    "# Let's create two boolean arrays, b1 and b2:\n",
    "b1 = np.random.random((2, 4)) > 0.5\n",
    "print('b1 =\\n {0}'.format(b1))\n",
    "\n",
    "b2 = np.random.random((2, 4)) > 0.5\n",
    "print('\\nb2 =\\n {0}'.format(b2))"
   ]
  },
  {
   "cell_type": "code",
   "execution_count": 57,
   "metadata": {
    "slideshow": {
     "slide_type": "fragment"
    }
   },
   "outputs": [
    {
     "name": "stdout",
     "output_type": "stream",
     "text": [
      "\n",
      "And operator: b1 & b2 =\n",
      " [[ True  True False False]\n",
      " [False  True False  True]]\n"
     ]
    }
   ],
   "source": [
    "print('\\nAnd operator: b1 & b2 =\\n {0}'.format(b1 & b2))"
   ]
  },
  {
   "cell_type": "code",
   "execution_count": 58,
   "metadata": {
    "slideshow": {
     "slide_type": "fragment"
    }
   },
   "outputs": [
    {
     "name": "stdout",
     "output_type": "stream",
     "text": [
      "\n",
      "Or operator: b1 | b2 =\n",
      " [[ True  True  True False]\n",
      " [ True  True  True  True]]\n"
     ]
    }
   ],
   "source": [
    "print('\\nOr operator: b1 | b2 =\\n {0}'.format(b1 | b2))"
   ]
  },
  {
   "cell_type": "markdown",
   "metadata": {
    "slideshow": {
     "slide_type": "slide"
    }
   },
   "source": [
    "The functions `np.all()` and `np.any()` can be used to test whether all or any of the elements of a boolean array are `True`:"
   ]
  },
  {
   "cell_type": "code",
   "execution_count": 59,
   "metadata": {},
   "outputs": [
    {
     "data": {
      "text/plain": [
       "False"
      ]
     },
     "execution_count": 59,
     "metadata": {},
     "output_type": "execute_result"
    }
   ],
   "source": [
    "np.all(b1)"
   ]
  },
  {
   "cell_type": "code",
   "execution_count": 60,
   "metadata": {},
   "outputs": [
    {
     "data": {
      "text/plain": [
       "True"
      ]
     },
     "execution_count": 60,
     "metadata": {},
     "output_type": "execute_result"
    }
   ],
   "source": [
    "np.all(np.array([True, True, True]))"
   ]
  },
  {
   "cell_type": "code",
   "execution_count": 61,
   "metadata": {},
   "outputs": [
    {
     "data": {
      "text/plain": [
       "True"
      ]
     },
     "execution_count": 61,
     "metadata": {},
     "output_type": "execute_result"
    }
   ],
   "source": [
    "np.any(b1)"
   ]
  },
  {
   "cell_type": "code",
   "execution_count": 62,
   "metadata": {},
   "outputs": [
    {
     "data": {
      "text/plain": [
       "False"
      ]
     },
     "execution_count": 62,
     "metadata": {},
     "output_type": "execute_result"
    }
   ],
   "source": [
    "np.any(np.array([False, False, False]))"
   ]
  },
  {
   "cell_type": "markdown",
   "metadata": {
    "slideshow": {
     "slide_type": "slide"
    }
   },
   "source": [
    "### Arithmetic\n",
    "When talking about array arithmetic operations, we need to make a distinction. We say that operations are **element-wise**\n",
    "when they involve single elements and that they are **matrix-wise** when they involve the array treated \n",
    "as a matrix."
   ]
  },
  {
   "cell_type": "markdown",
   "metadata": {},
   "source": [
    "When we write the usual operators `*`, `/`, `+`, `-` they will perform **element-wise** operations:"
   ]
  },
  {
   "cell_type": "code",
   "execution_count": 63,
   "metadata": {
    "slideshow": {
     "slide_type": "fragment"
    }
   },
   "outputs": [
    {
     "name": "stdout",
     "output_type": "stream",
     "text": [
      "[[1. 2.]\n",
      " [3. 4.]]\n"
     ]
    }
   ],
   "source": [
    "print(a)"
   ]
  },
  {
   "cell_type": "code",
   "execution_count": 64,
   "metadata": {
    "slideshow": {
     "slide_type": "fragment"
    }
   },
   "outputs": [
    {
     "data": {
      "text/plain": [
       "array([[ 1.,  4.],\n",
       "       [ 9., 16.]])"
      ]
     },
     "execution_count": 64,
     "metadata": {},
     "output_type": "execute_result"
    }
   ],
   "source": [
    "a*a"
   ]
  },
  {
   "cell_type": "code",
   "execution_count": 65,
   "metadata": {
    "slideshow": {
     "slide_type": "fragment"
    }
   },
   "outputs": [
    {
     "data": {
      "text/plain": [
       "array([[0., 0.],\n",
       "       [0., 0.]])"
      ]
     },
     "execution_count": 65,
     "metadata": {},
     "output_type": "execute_result"
    }
   ],
   "source": [
    "a-a"
   ]
  },
  {
   "cell_type": "markdown",
   "metadata": {
    "slideshow": {
     "slide_type": "subslide"
    }
   },
   "source": [
    "These operations can also be performed with a scalar (a single number):"
   ]
  },
  {
   "cell_type": "code",
   "execution_count": 66,
   "metadata": {
    "slideshow": {
     "slide_type": "fragment"
    }
   },
   "outputs": [
    {
     "name": "stdout",
     "output_type": "stream",
     "text": [
      "[[1. 2.]\n",
      " [3. 4.]]\n"
     ]
    }
   ],
   "source": [
    "print(a)"
   ]
  },
  {
   "cell_type": "code",
   "execution_count": 67,
   "metadata": {
    "slideshow": {
     "slide_type": "fragment"
    }
   },
   "outputs": [
    {
     "data": {
      "text/plain": [
       "array([[ 4.,  8.],\n",
       "       [12., 16.]])"
      ]
     },
     "execution_count": 67,
     "metadata": {},
     "output_type": "execute_result"
    }
   ],
   "source": [
    "a*4"
   ]
  },
  {
   "cell_type": "code",
   "execution_count": 68,
   "metadata": {
    "slideshow": {
     "slide_type": "fragment"
    }
   },
   "outputs": [
    {
     "data": {
      "text/plain": [
       "array([[1.        , 0.5       ],\n",
       "       [0.33333333, 0.25      ]])"
      ]
     },
     "execution_count": 68,
     "metadata": {},
     "output_type": "execute_result"
    }
   ],
   "source": [
    "1/a"
   ]
  },
  {
   "cell_type": "markdown",
   "metadata": {
    "slideshow": {
     "slide_type": "subslide"
    }
   },
   "source": [
    "Matrix multiplication has its own operator, `@`"
   ]
  },
  {
   "cell_type": "code",
   "execution_count": 69,
   "metadata": {},
   "outputs": [
    {
     "data": {
      "text/plain": [
       "array([[ 7., 10.],\n",
       "       [15., 22.]])"
      ]
     },
     "execution_count": 69,
     "metadata": {},
     "output_type": "execute_result"
    }
   ],
   "source": [
    "a @ a"
   ]
  },
  {
   "cell_type": "markdown",
   "metadata": {
    "slideshow": {
     "slide_type": "subslide"
    }
   },
   "source": [
    "Similarly, dot product can be done with either `@` or `np.dot`"
   ]
  },
  {
   "cell_type": "code",
   "execution_count": 70,
   "metadata": {},
   "outputs": [
    {
     "data": {
      "text/plain": [
       "2.0"
      ]
     },
     "execution_count": 70,
     "metadata": {},
     "output_type": "execute_result"
    }
   ],
   "source": [
    "np.ones(2) @ np.ones(2)"
   ]
  },
  {
   "cell_type": "code",
   "execution_count": 71,
   "metadata": {},
   "outputs": [
    {
     "data": {
      "text/plain": [
       "2.0"
      ]
     },
     "execution_count": 71,
     "metadata": {},
     "output_type": "execute_result"
    }
   ],
   "source": [
    "np.dot(np.ones(2), np.ones(2))"
   ]
  },
  {
   "cell_type": "markdown",
   "metadata": {
    "slideshow": {
     "slide_type": "slide"
    }
   },
   "source": [
    "Numpy has almost functions for any kind of matrix manipulation, for example:\n",
    "* Transposing a matrix: `np.transpose`\n",
    "* Inverse of a matrix: `np.linalg.inv`\n",
    "* Determinant of a matrix: `np.linalg.det`"
   ]
  },
  {
   "cell_type": "code",
   "execution_count": 72,
   "metadata": {
    "slideshow": {
     "slide_type": "fragment"
    }
   },
   "outputs": [
    {
     "name": "stdout",
     "output_type": "stream",
     "text": [
      "Original matrix =\n",
      "[[1. 2.]\n",
      " [3. 4.]]\n",
      "\n",
      "Transposed =\n",
      "[[1. 3.]\n",
      " [2. 4.]]\n",
      "\n",
      "Inverse =\n",
      "[[-2.   1. ]\n",
      " [ 1.5 -0.5]]\n",
      "\n",
      "Determinant = -2.00\n"
     ]
    }
   ],
   "source": [
    "print('Original matrix =\\n{0}'.format(a))\n",
    "print('\\nTransposed =\\n{0}'.format(np.transpose(a)))\n",
    "print('\\nInverse =\\n{0}'.format(np.linalg.inv(a)))\n",
    "print('\\nDeterminant = {0:.2f}'.format(np.linalg.det(a)))"
   ]
  },
  {
   "cell_type": "markdown",
   "metadata": {
    "slideshow": {
     "slide_type": "slide"
    }
   },
   "source": [
    "## Other numpy functions"
   ]
  },
  {
   "cell_type": "markdown",
   "metadata": {},
   "source": [
    "Numpy offers a range of useful functions to deal with arrays. In Lecture 3 we have seen `np.sum`. \n",
    "This will also work for 2D arrays:"
   ]
  },
  {
   "cell_type": "code",
   "execution_count": 73,
   "metadata": {
    "slideshow": {
     "slide_type": "fragment"
    }
   },
   "outputs": [
    {
     "data": {
      "text/plain": [
       "4935.748784125137"
      ]
     },
     "execution_count": 73,
     "metadata": {},
     "output_type": "execute_result"
    }
   ],
   "source": [
    "lsize = 100\n",
    "large_array = np.random.random((lsize, lsize))\n",
    "np.sum(large_array)"
   ]
  },
  {
   "cell_type": "markdown",
   "metadata": {
    "slideshow": {
     "slide_type": "subslide"
    }
   },
   "source": [
    "**Tip:** Remember that using `np.sum` (or any numpy function) is normally much faster than coding the same function yourself."
   ]
  },
  {
   "cell_type": "code",
   "execution_count": 74,
   "metadata": {
    "slideshow": {
     "slide_type": "fragment"
    }
   },
   "outputs": [
    {
     "data": {
      "text/plain": [
       "4935.74878412513"
      ]
     },
     "execution_count": 74,
     "metadata": {},
     "output_type": "execute_result"
    }
   ],
   "source": [
    "def my_sum(large_array):\n",
    "    total_sum = 0\n",
    "    for i in range(lsize):\n",
    "        for j in range(lsize):\n",
    "            total_sum += large_array[i,j]\n",
    "    return(total_sum)\n",
    "\n",
    "my_sum(large_array)"
   ]
  },
  {
   "cell_type": "code",
   "execution_count": 75,
   "metadata": {
    "slideshow": {
     "slide_type": "subslide"
    }
   },
   "outputs": [
    {
     "name": "stdout",
     "output_type": "stream",
     "text": [
      "Numpy time:\n",
      "5.96 µs ± 337 ns per loop (mean ± std. dev. of 7 runs, 100000 loops each)\n",
      "\n",
      "Our own time:\n",
      "2.02 ms ± 320 µs per loop (mean ± std. dev. of 7 runs, 100 loops each)\n",
      "\n",
      "The average time of our function is 340 times slower than the average time of Numpy.\n"
     ]
    }
   ],
   "source": [
    "print('Numpy time:')\n",
    "t1 = %timeit -o np.sum(large_array)\n",
    "\n",
    "print('\\nOur own time:')\n",
    "t2 = %timeit -o my_sum(large_array)\n",
    "\n",
    "print('\\nThe average time of our function is {0:.0f} times slower than the average time of Numpy.'.format(t2.average/t1.average))\n"
   ]
  },
  {
   "cell_type": "markdown",
   "metadata": {
    "slideshow": {
     "slide_type": "subslide"
    }
   },
   "source": [
    "Other useful functions are the following:\n",
    "* `np.max` get the maximum value of the array\n",
    "* `np.min` get the minimum value of the array"
   ]
  },
  {
   "cell_type": "code",
   "execution_count": 76,
   "metadata": {},
   "outputs": [
    {
     "name": "stdout",
     "output_type": "stream",
     "text": [
      "The maximum value of large_array is 0.99987802\n",
      "The minimum value of large_array is 0.00003001\n"
     ]
    }
   ],
   "source": [
    "print('The maximum value of large_array is {0:.8f}'.format(np.max(large_array)))\n",
    "\n",
    "print('The minimum value of large_array is {0:.8f}'.format(np.min(large_array)))"
   ]
  },
  {
   "cell_type": "markdown",
   "metadata": {
    "slideshow": {
     "slide_type": "slide"
    }
   },
   "source": [
    "Need something we have not mentioned? Numpy is likely to have it!\n",
    "<img src=\"im/gsearch.png\">"
   ]
  },
  {
   "cell_type": "markdown",
   "metadata": {
    "slideshow": {
     "slide_type": "slide"
    }
   },
   "source": [
    "## Basic plotting\n",
    "There are many alternatives for plotting in python, but the most popular to use with numpy is `matplotlib.pyplot`.\n",
    "\n",
    "Let's import it in the usual way, calling it `plt`:\n"
   ]
  },
  {
   "cell_type": "code",
   "execution_count": 77,
   "metadata": {
    "slideshow": {
     "slide_type": "fragment"
    }
   },
   "outputs": [],
   "source": [
    "import matplotlib.pyplot as plt"
   ]
  },
  {
   "cell_type": "markdown",
   "metadata": {
    "slideshow": {
     "slide_type": "fragment"
    }
   },
   "source": [
    "Following with the salaries example, let's plot age against salary:"
   ]
  },
  {
   "cell_type": "markdown",
   "metadata": {
    "slideshow": {
     "slide_type": "slide"
    }
   },
   "source": [
    "Recall the salary data:"
   ]
  },
  {
   "cell_type": "code",
   "execution_count": 78,
   "metadata": {},
   "outputs": [
    {
     "name": "stdout",
     "output_type": "stream",
     "text": [
      "[[0.00e+00 2.20e+01 0.00e+00 7.20e+04]\n",
      " [1.00e+00 4.70e+01 0.00e+00 2.70e+04]\n",
      " [2.00e+00 3.50e+01 0.00e+00 3.60e+04]\n",
      " [3.00e+00 3.30e+01 1.00e+00 1.90e+04]\n",
      " [4.00e+00 3.40e+01 1.00e+00 1.04e+05]\n",
      " [5.00e+00 6.50e+01 1.00e+00 8.60e+04]\n",
      " [6.00e+00 5.40e+01 1.00e+00 1.04e+05]\n",
      " [7.00e+00 1.90e+01 0.00e+00 2.10e+04]\n",
      " [8.00e+00 6.20e+01 1.00e+00 5.20e+04]]\n"
     ]
    }
   ],
   "source": [
    "print(salary_data)"
   ]
  },
  {
   "cell_type": "code",
   "execution_count": 79,
   "metadata": {
    "slideshow": {
     "slide_type": "subslide"
    }
   },
   "outputs": [
    {
     "data": {
      "text/plain": [
       "[<matplotlib.lines.Line2D at 0x226c8ccb7b8>]"
      ]
     },
     "execution_count": 79,
     "metadata": {},
     "output_type": "execute_result"
    },
    {
     "data": {
      "image/png": "[encoded data removed]",
      "text/plain": [
       "<Figure size 432x288 with 1 Axes>"
      ]
     },
     "metadata": {
      "needs_background": "light"
     },
     "output_type": "display_data"
    }
   ],
   "source": [
    "plt.plot(salary_data[:,1], salary_data[:,3], 'ro')"
   ]
  },
  {
   "cell_type": "markdown",
   "metadata": {
    "slideshow": {
     "slide_type": "fragment"
    }
   },
   "source": [
    "**Tip:** In this example, `'ro'` defines the style, the `r` stands for red and the `o` for circles"
   ]
  },
  {
   "cell_type": "markdown",
   "metadata": {
    "slideshow": {
     "slide_type": "subslide"
    }
   },
   "source": [
    "Equally simple would be to create a histogram of the salaries, using `hist`:"
   ]
  },
  {
   "cell_type": "code",
   "execution_count": 80,
   "metadata": {
    "slideshow": {
     "slide_type": "fragment"
    }
   },
   "outputs": [
    {
     "data": {
      "text/plain": [
       "(array([3., 0., 1., 1., 0., 0., 1., 1., 0., 2.]),\n",
       " array([ 19000.,  27500.,  36000.,  44500.,  53000.,  61500.,  70000.,\n",
       "         78500.,  87000.,  95500., 104000.]),\n",
       " <a list of 10 Patch objects>)"
      ]
     },
     "execution_count": 80,
     "metadata": {},
     "output_type": "execute_result"
    },
    {
     "data": {
      "image/png": "[encoded data removed]",
      "text/plain": [
       "<Figure size 432x288 with 1 Axes>"
      ]
     },
     "metadata": {
      "needs_background": "light"
     },
     "output_type": "display_data"
    }
   ],
   "source": [
    "plt.hist(salary_data[:,3])"
   ]
  },
  {
   "cell_type": "markdown",
   "metadata": {
    "slideshow": {
     "slide_type": "subslide"
    }
   },
   "source": [
    "**Tip:** Here, a lot of features (for example the number of bins to use) have been defined automatically, but they can be tweaked. As usual, we can check this in the function help:"
   ]
  },
  {
   "cell_type": "code",
   "execution_count": 82,
   "metadata": {
    "slideshow": {
     "slide_type": "fragment"
    }
   },
   "outputs": [],
   "source": [
    "help(plt.hist)"
   ]
  },
  {
   "cell_type": "markdown",
   "metadata": {
    "slideshow": {
     "slide_type": "slide"
    }
   },
   "source": [
    "**Line plots** If you want to plot a function, you can use the `plot` function. Let us plot `3x^2 + 4` with x values between 0 and 100"
   ]
  },
  {
   "cell_type": "code",
   "execution_count": 83,
   "metadata": {},
   "outputs": [],
   "source": [
    "number_of_points = 100"
   ]
  },
  {
   "cell_type": "code",
   "execution_count": 84,
   "metadata": {},
   "outputs": [],
   "source": [
    "x = np.linspace(0, 100, number_of_points)"
   ]
  },
  {
   "cell_type": "code",
   "execution_count": 85,
   "metadata": {},
   "outputs": [],
   "source": [
    "y = 3*x**2 + 4"
   ]
  },
  {
   "cell_type": "code",
   "execution_count": 86,
   "metadata": {},
   "outputs": [
    {
     "data": {
      "text/plain": [
       "[<matplotlib.lines.Line2D at 0x226c8dcdcf8>]"
      ]
     },
     "execution_count": 86,
     "metadata": {},
     "output_type": "execute_result"
    },
    {
     "data": {
      "image/png": "[encoded data removed]",
      "text/plain": [
       "<Figure size 432x288 with 1 Axes>"
      ]
     },
     "metadata": {
      "needs_background": "light"
     },
     "output_type": "display_data"
    }
   ],
   "source": [
    "plt.plot(x,y, 'g-')"
   ]
  },
  {
   "cell_type": "markdown",
   "metadata": {
    "slideshow": {
     "slide_type": "slide"
    }
   },
   "source": [
    "It is fairly easy to make plots \"pretty\" in matplotlib. We can add labels, title, legend..."
   ]
  },
  {
   "cell_type": "code",
   "execution_count": 87,
   "metadata": {
    "slideshow": {
     "slide_type": "fragment"
    }
   },
   "outputs": [
    {
     "data": {
      "image/png": "[encoded data removed]",
      "text/plain": [
       "<Figure size 432x288 with 1 Axes>"
      ]
     },
     "metadata": {
      "needs_background": "light"
     },
     "output_type": "display_data"
    }
   ],
   "source": [
    "plt.title('The title')\n",
    "plt.xlabel('This is what I have to say about x')\n",
    "plt.ylabel('Same for y')\n",
    "\n",
    "plt.plot(x,2*x**2 + 40, 'r--', label='Red line')\n",
    "plt.plot(x,y, 'g-', label='Green line')\n",
    "plt.legend()\n",
    "plt.show()"
   ]
  },
  {
   "cell_type": "markdown",
   "metadata": {},
   "source": [
    "**Tip:** in Jupyter notebooks the plots will just appear automatically, \n",
    "    but in regular scripts you need to call `plt.show()` to display the image, once you have added everything you want."
   ]
  },
  {
   "cell_type": "markdown",
   "metadata": {
    "slideshow": {
     "slide_type": "slide"
    }
   },
   "source": [
    "## Moving forward\n",
    "* The possibilities of what you can do with matplotlib are endless, so the official documentation, books (like the one suggested in the course) and StackOverFlow are your friends\n",
    "* **Remember all labs are tomorrow!** There is no lab on Friday, and no Drop-In session this week\n",
    "* If you have a chance, try and have a go at the lab material before the class\n",
    "* Assignment 2 deadline is around the corner!\n",
    "* Next lecture we will walk you through writting a complete program to solve a problem\n"
   ]
  }
 ],
 "metadata": {
  "celltoolbar": "Slideshow",
  "kernelspec": {
   "display_name": "Python 3",
   "language": "python",
   "name": "python3"
  },
  "language_info": {
   "codemirror_mode": {
    "name": "ipython",
    "version": 3
   },
   "file_extension": ".py",
   "mimetype": "text/x-python",
   "name": "python",
   "nbconvert_exporter": "python",
   "pygments_lexer": "ipython3",
   "version": "3.6.8"
  }
 },
 "nbformat": 4,
 "nbformat_minor": 2
}
