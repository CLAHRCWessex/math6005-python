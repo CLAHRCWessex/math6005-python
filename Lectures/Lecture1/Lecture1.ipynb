{
 "cells": [
  {
   "cell_type": "markdown",
   "metadata": {
    "slideshow": {
     "slide_type": "slide"
    }
   },
   "source": [
    "# Lecture 1: Python Basics"
   ]
  },
  {
   "cell_type": "markdown",
   "metadata": {
    "slideshow": {
     "slide_type": "fragment"
    }
   },
   "source": [
    "* Python Syntax\n",
    "* Variables and data types\n",
    "* Storing lots of data in memory: Lists and Tuples\n",
    "* Whitespace\n",
    "* Functions\n",
    "* Comments in code\n"
   ]
  },
  {
   "cell_type": "markdown",
   "metadata": {
    "slideshow": {
     "slide_type": "subslide"
    }
   },
   "source": [
    "##  What does python syntax look like?"
   ]
  },
  {
   "cell_type": "code",
   "execution_count": 21,
   "metadata": {
    "slideshow": {
     "slide_type": "fragment"
    }
   },
   "outputs": [
    {
     "name": "stdout",
     "output_type": "stream",
     "text": [
      "80000.0\n"
     ]
    }
   ],
   "source": [
    "salary = 100000\n",
    "tax_rate = 0.2\n",
    "salary_after_tax = salary * (1-tax_rate)\n",
    "print(salary_after_tax) "
   ]
  },
  {
   "cell_type": "markdown",
   "metadata": {
    "slideshow": {
     "slide_type": "subslide"
    }
   },
   "source": [
    "### What parts of Python did we use in that code?"
   ]
  },
  {
   "cell_type": "code",
   "execution_count": 1,
   "metadata": {
    "slideshow": {
     "slide_type": "fragment"
    }
   },
   "outputs": [
    {
     "name": "stdout",
     "output_type": "stream",
     "text": [
      "Hello world\n"
     ]
    }
   ],
   "source": [
    "print('Hello world')   "
   ]
  },
  {
   "cell_type": "markdown",
   "metadata": {
    "slideshow": {
     "slide_type": "slide"
    }
   },
   "source": [
    "## Variables and data types in python\n",
    "\n",
    "* Variables hold *data*. \n",
    "* For example, this might be a number (e.g. an integer) or a text string.\n",
    "* Your computer program uses the data in its operations. "
   ]
  },
  {
   "cell_type": "markdown",
   "metadata": {
    "slideshow": {
     "slide_type": "subslide"
    }
   },
   "source": [
    "Let's create a really simple variable call `simple_sum` as the sum of two integers."
   ]
  },
  {
   "cell_type": "code",
   "execution_count": 2,
   "metadata": {
    "slideshow": {
     "slide_type": "fragment"
    }
   },
   "outputs": [
    {
     "name": "stdout",
     "output_type": "stream",
     "text": [
      "2\n"
     ]
    }
   ],
   "source": [
    "simple_sum = 1 + 1\n",
    "print(simple_sum) "
   ]
  },
  {
   "cell_type": "markdown",
   "metadata": {
    "slideshow": {
     "slide_type": "slide"
    }
   },
   "source": [
    "* You can conduct mathematical operations on variables\n",
    "\n",
    "| Operator     | Name           | Description                                            |\n",
    "|--------------|----------------|--------------------------------------------------------|\n",
    "| ``a + b``    | Addition       | Sum of ``a`` and ``b``                                 |\n",
    "| ``a - b``    | Subtraction    | Difference of ``a`` and ``b``                          |\n",
    "| ``a * b``    | Multiplication | Product of ``a`` and ``b``                             |\n",
    "| ``a / b``    | True division  | Quotient of ``a`` and ``b``                            |\n",
    "| ``a // b``   | Floor division | Quotient of ``a`` and ``b``, removing fractional parts |\n",
    "| ``a % b``    | Modulus        | Integer remainder after division of ``a`` by ``b``     |\n",
    "| ``a ** b``   | Exponentiation | ``a`` raised to the power of ``b``                     |\n",
    "| ``-a``       | Negation       | The negative of ``a``                                  |"
   ]
  },
  {
   "cell_type": "markdown",
   "metadata": {
    "slideshow": {
     "slide_type": "subslide"
    }
   },
   "source": [
    "Example: \n",
    "* the variable `z` is product of variable `x` raised to the power of `y`"
   ]
  },
  {
   "cell_type": "code",
   "execution_count": 3,
   "metadata": {
    "slideshow": {
     "slide_type": "fragment"
    }
   },
   "outputs": [
    {
     "name": "stdout",
     "output_type": "stream",
     "text": [
      "100\n"
     ]
    }
   ],
   "source": [
    "x = 10\n",
    "y = 2\n",
    "z = x ** y\n",
    "print(z)"
   ]
  },
  {
   "cell_type": "markdown",
   "metadata": {
    "slideshow": {
     "slide_type": "subslide"
    }
   },
   "source": [
    "Example: \n",
    "* the variable `foo` is the negation of variable `bar`"
   ]
  },
  {
   "cell_type": "code",
   "execution_count": 4,
   "metadata": {
    "slideshow": {
     "slide_type": "fragment"
    }
   },
   "outputs": [
    {
     "name": "stdout",
     "output_type": "stream",
     "text": [
      "-10\n"
     ]
    }
   ],
   "source": [
    "bar = 10\n",
    "foo = -bar\n",
    "print(foo)"
   ]
  },
  {
   "cell_type": "markdown",
   "metadata": {
    "slideshow": {
     "slide_type": "subslide"
    }
   },
   "source": [
    "### Variables Names\n",
    "* Variables **names** can only contain *letters*, *numbers*, and *underscores* ( _ ). \n",
    "* Underscores are used instead of spaces. \n",
    "* For example, use `student_name` instead of `student name`.  \n",
    "* If you include a space then you will get an `SyntaxError`!"
   ]
  },
  {
   "cell_type": "code",
   "execution_count": 5,
   "metadata": {
    "slideshow": {
     "slide_type": "fragment"
    }
   },
   "outputs": [
    {
     "ename": "SyntaxError",
     "evalue": "invalid syntax (<ipython-input-5-bb25698b12f8>, line 1)",
     "output_type": "error",
     "traceback": [
      "\u001b[0;36m  File \u001b[0;32m\"<ipython-input-5-bb25698b12f8>\"\u001b[0;36m, line \u001b[0;32m1\u001b[0m\n\u001b[0;31m    lecturer name = 'tom'\u001b[0m\n\u001b[0m                ^\u001b[0m\n\u001b[0;31mSyntaxError\u001b[0m\u001b[0;31m:\u001b[0m invalid syntax\n"
     ]
    }
   ],
   "source": [
    "lecturer name = 'tom'"
   ]
  },
  {
   "cell_type": "markdown",
   "metadata": {
    "slideshow": {
     "slide_type": "subslide"
    }
   },
   "source": [
    "* Each variable has a **data type**.  \n",
    "* Python is dynamically typed. \n",
    "* This means that Python does all of the work for you!"
   ]
  },
  {
   "cell_type": "code",
   "execution_count": 6,
   "metadata": {
    "slideshow": {
     "slide_type": "fragment"
    }
   },
   "outputs": [
    {
     "name": "stdout",
     "output_type": "stream",
     "text": [
      "<class 'int'>\n",
      "<class 'str'>\n"
     ]
    }
   ],
   "source": [
    "foo = 1000\n",
    "bar = 'hello everyone'\n",
    "print(type(foo))\n",
    "print(type(bar))"
   ]
  },
  {
   "cell_type": "code",
   "execution_count": 7,
   "metadata": {
    "slideshow": {
     "slide_type": "subslide"
    }
   },
   "outputs": [
    {
     "name": "stdout",
     "output_type": "stream",
     "text": [
      "<class 'bool'>\n",
      "<class 'bool'>\n",
      "<class 'float'>\n",
      "<class 'int'>\n"
     ]
    }
   ],
   "source": [
    "foo = True\n",
    "bar = False\n",
    "spam = 3.142\n",
    "eggs = 10000000\n",
    "\n",
    "print(type(foo))\n",
    "print(type(bar))\n",
    "print(type(spam))\n",
    "print(type(eggs))"
   ]
  },
  {
   "cell_type": "markdown",
   "metadata": {
    "slideshow": {
     "slide_type": "slide"
    }
   },
   "source": [
    "## Introduction to Lists and Tuples"
   ]
  },
  {
   "cell_type": "markdown",
   "metadata": {
    "slideshow": {
     "slide_type": "fragment"
    }
   },
   "source": [
    "* A Python `List` is a simple and flexible way to store variables and any type of data"
   ]
  },
  {
   "cell_type": "code",
   "execution_count": 8,
   "metadata": {
    "slideshow": {
     "slide_type": "fragment"
    }
   },
   "outputs": [
    {
     "name": "stdout",
     "output_type": "stream",
     "text": [
      "[1, 2, 3, 4, 5]\n"
     ]
    }
   ],
   "source": [
    "foo = [1, 2, 3, 4, 5]\n",
    "print(foo) "
   ]
  },
  {
   "cell_type": "markdown",
   "metadata": {
    "slideshow": {
     "slide_type": "subslide"
    }
   },
   "source": [
    "* The elements stored within a `List` have a numbered index\n",
    "* Indexes start from **zero** (don't forget)"
   ]
  },
  {
   "cell_type": "code",
   "execution_count": 10,
   "metadata": {
    "slideshow": {
     "slide_type": "fragment"
    }
   },
   "outputs": [
    {
     "name": "stdout",
     "output_type": "stream",
     "text": [
      "1\n",
      "2\n",
      "[1, 2, 3, 4, 999]\n"
     ]
    }
   ],
   "source": [
    "foo = [1, 2, 3, 4, 5]\n",
    "print(foo[0])\n",
    "print(foo[1])\n",
    "\n",
    "foo[4] = 999\n",
    "print(foo)\n"
   ]
  },
  {
   "cell_type": "markdown",
   "metadata": {
    "slideshow": {
     "slide_type": "subslide"
    }
   },
   "source": [
    "* A `List` is very flexible and can hold different types of variable"
   ]
  },
  {
   "cell_type": "code",
   "execution_count": 11,
   "metadata": {
    "slideshow": {
     "slide_type": "fragment"
    }
   },
   "outputs": [
    {
     "name": "stdout",
     "output_type": "stream",
     "text": [
      "['spam', 'eggs', 82.96, True]\n"
     ]
    }
   ],
   "source": [
    "bar = ['spam', 5, 82.96, True]\n",
    "bar[1] = 'eggs'\n",
    "print(bar) "
   ]
  },
  {
   "cell_type": "markdown",
   "metadata": {
    "slideshow": {
     "slide_type": "fragment"
    }
   },
   "source": [
    "* A `List` has a length"
   ]
  },
  {
   "cell_type": "code",
   "execution_count": 12,
   "metadata": {
    "slideshow": {
     "slide_type": "fragment"
    }
   },
   "outputs": [
    {
     "name": "stdout",
     "output_type": "stream",
     "text": [
      "4\n"
     ]
    }
   ],
   "source": [
    "length_of_list = len(bar)\n",
    "print(length_of_list)  "
   ]
  },
  {
   "cell_type": "markdown",
   "metadata": {
    "slideshow": {
     "slide_type": "subslide"
    }
   },
   "source": [
    "### Inserting and removing items\n",
    "\n",
    "**New** list items:\n",
    "* can be **appended** to the end of a list a `List`\n",
    "* or **inserted** at a specified index\n",
    "\n",
    "**Existing** list items:\n",
    "* Can be removed from a specified **index**\n",
    "* or by **value**"
   ]
  },
  {
   "cell_type": "code",
   "execution_count": 17,
   "metadata": {
    "slideshow": {
     "slide_type": "subslide"
    }
   },
   "outputs": [
    {
     "name": "stdout",
     "output_type": "stream",
     "text": [
      "['spam', 'eggs']\n"
     ]
    }
   ],
   "source": [
    "foo = []\n",
    "foo.append('spam')\n",
    "foo.append('eggs')\n",
    "print(foo)\n",
    "\n",
    "#foo.insert(1, 'bar')\n",
    "#print(foo)\n",
    "\n",
    "#del foo[2] # Remove a specific index \n",
    "#print(foo)\n",
    "\n",
    "#foo.remove('spam') #Remove a specific value\n",
    "#print(foo)"
   ]
  },
  {
   "cell_type": "markdown",
   "metadata": {
    "slideshow": {
     "slide_type": "slide"
    }
   },
   "source": [
    "* A `Tuple` is similar to a `List` with one key difference\n",
    "* A `List` is mutable where as a `Tuple` is **immutable**"
   ]
  },
  {
   "cell_type": "code",
   "execution_count": 18,
   "metadata": {},
   "outputs": [
    {
     "name": "stdout",
     "output_type": "stream",
     "text": [
      "[1, 2, 3, 4, 5]\n",
      "(1, 2, 3, 4, 5)\n"
     ]
    }
   ],
   "source": [
    "foo = [1, 2, 3, 4, 5]\n",
    "bar = (1, 2, 3, 4, 5)\n",
    "\n",
    "print(foo)\n",
    "print(bar)"
   ]
  },
  {
   "cell_type": "code",
   "execution_count": 19,
   "metadata": {
    "slideshow": {
     "slide_type": "slide"
    }
   },
   "outputs": [
    {
     "ename": "TypeError",
     "evalue": "'tuple' object does not support item assignment",
     "output_type": "error",
     "traceback": [
      "\u001b[0;31m---------------------------------------------------------------------------\u001b[0m",
      "\u001b[0;31mTypeError\u001b[0m                                 Traceback (most recent call last)",
      "\u001b[0;32m<ipython-input-19-0887368b13a8>\u001b[0m in \u001b[0;36m<module>\u001b[0;34m()\u001b[0m\n\u001b[1;32m      1\u001b[0m \u001b[0mfoo\u001b[0m\u001b[0;34m[\u001b[0m\u001b[0;36m1\u001b[0m\u001b[0;34m]\u001b[0m \u001b[0;34m=\u001b[0m \u001b[0;36m999\u001b[0m \u001b[0;31m#list\u001b[0m\u001b[0;34m\u001b[0m\u001b[0;34m\u001b[0m\u001b[0m\n\u001b[0;32m----> 2\u001b[0;31m \u001b[0mbar\u001b[0m\u001b[0;34m[\u001b[0m\u001b[0;36m1\u001b[0m\u001b[0;34m]\u001b[0m \u001b[0;34m=\u001b[0m \u001b[0;36m999\u001b[0m \u001b[0;31m#tuple\u001b[0m\u001b[0;34m\u001b[0m\u001b[0;34m\u001b[0m\u001b[0m\n\u001b[0m",
      "\u001b[0;31mTypeError\u001b[0m: 'tuple' object does not support item assignment"
     ]
    }
   ],
   "source": [
    "foo[1] = 999 #list\n",
    "bar[1] = 999 #tuple"
   ]
  },
  {
   "cell_type": "markdown",
   "metadata": {
    "slideshow": {
     "slide_type": "slide"
    }
   },
   "source": [
    "## Functions\n",
    "\n",
    "* We have already encountered a function: `print()` \n",
    "* `print()` is one of Python's built in functions\n",
    "* Python has lots of them!\n",
    "* If you are not sure how they work you can use the `help()` function!"
   ]
  },
  {
   "cell_type": "code",
   "execution_count": 20,
   "metadata": {
    "slideshow": {
     "slide_type": "subslide"
    }
   },
   "outputs": [
    {
     "name": "stdout",
     "output_type": "stream",
     "text": [
      "Help on built-in function print in module builtins:\n",
      "\n",
      "print(...)\n",
      "    print(value, ..., sep=' ', end='\\n', file=sys.stdout, flush=False)\n",
      "    \n",
      "    Prints the values to a stream, or to sys.stdout by default.\n",
      "    Optional keyword arguments:\n",
      "    file:  a file-like object (stream); defaults to the current sys.stdout.\n",
      "    sep:   string inserted between values, default a space.\n",
      "    end:   string appended after the last value, default a newline.\n",
      "    flush: whether to forcibly flush the stream.\n",
      "\n"
     ]
    }
   ],
   "source": [
    "help(print)"
   ]
  },
  {
   "cell_type": "markdown",
   "metadata": {
    "slideshow": {
     "slide_type": "subslide"
    }
   },
   "source": [
    "### Importing functions from Python modules\n",
    "* Functions are stored within **modules**\n",
    "* Use the `import` statement to access the modules you need\n",
    "* Let's generate a random integer between 1 and 100.\n",
    "* We need to a function from the `random` module"
   ]
  },
  {
   "cell_type": "code",
   "execution_count": 38,
   "metadata": {
    "slideshow": {
     "slide_type": "fragment"
    }
   },
   "outputs": [
    {
     "name": "stdout",
     "output_type": "stream",
     "text": [
      "I generated a random integer 4\n"
     ]
    }
   ],
   "source": [
    "import random as rnd\n",
    "\n",
    "u = rnd.randint(1, 100)\n",
    "print('I generated a random integer {0}'.format(u))"
   ]
  },
  {
   "cell_type": "markdown",
   "metadata": {
    "slideshow": {
     "slide_type": "subslide"
    }
   },
   "source": [
    "* We can also import specific functions from modules "
   ]
  },
  {
   "cell_type": "code",
   "execution_count": 40,
   "metadata": {
    "slideshow": {
     "slide_type": "fragment"
    }
   },
   "outputs": [
    {
     "name": "stdout",
     "output_type": "stream",
     "text": [
      "I sampled from a random int 29 and a normally distributed value -0.6915069309944331\n"
     ]
    }
   ],
   "source": [
    "from random import randint, gauss\n",
    "\n",
    "u1 = randint(1, 100)\n",
    "u2 = gauss(0, 1)\n",
    "print('I sampled from a random int {0} and a normally distributed value {1}'.format(u1, u2))"
   ]
  },
  {
   "cell_type": "markdown",
   "metadata": {
    "slideshow": {
     "slide_type": "slide"
    }
   },
   "source": [
    "## Custom Functions\n",
    "\n",
    "* You can also code your own bespoke functions\n",
    "* A function is a reusable block of code that has a **single responsibility**\n",
    "* That means you function should do one thing only"
   ]
  },
  {
   "cell_type": "markdown",
   "metadata": {
    "slideshow": {
     "slide_type": "subslide"
    }
   },
   "source": [
    "### Motivation\n",
    "\n",
    "* You have been asked to convert a dataset of degrees celsius figures to fahrenheit"
   ]
  },
  {
   "cell_type": "code",
   "execution_count": 41,
   "metadata": {
    "slideshow": {
     "slide_type": "fragment"
    }
   },
   "outputs": [
    {
     "name": "stdout",
     "output_type": "stream",
     "text": [
      "68.0\n",
      "50.0\n"
     ]
    }
   ],
   "source": [
    "deg_celsius = 20\n",
    "fahrenheit = 9.0/5.0 * deg_celsius + 32\n",
    "print(fahrenheit)\n",
    "\n",
    "deg_celsius = 10\n",
    "fahrenheit = 9.0/5.0 * deg_celsius + 32\n",
    "print(fahrenheit) "
   ]
  },
  {
   "cell_type": "markdown",
   "metadata": {
    "slideshow": {
     "slide_type": "fragment"
    }
   },
   "source": [
    "* A reusable function would come in very handy here!"
   ]
  },
  {
   "cell_type": "code",
   "execution_count": 42,
   "metadata": {
    "slideshow": {
     "slide_type": "subslide"
    }
   },
   "outputs": [],
   "source": [
    "def convert_celsius_to_fahrenheit(deg_celsius):\n",
    "    deg_fahrenheit = 9.0/5.0 * deg_celsius + 32\n",
    "    print('{0} degrees celsius is equivalent to {1} degrees fahrenheit'.format(deg_celsius, deg_fahrenheit))"
   ]
  },
  {
   "cell_type": "code",
   "execution_count": 43,
   "metadata": {
    "slideshow": {
     "slide_type": "fragment"
    }
   },
   "outputs": [
    {
     "name": "stdout",
     "output_type": "stream",
     "text": [
      "20 degrees celsius is equivalent to 68.0 degrees fahrenheit\n",
      "10 degrees celsius is equivalent to 50.0 degrees fahrenheit\n"
     ]
    }
   ],
   "source": [
    "convert_celsius_to_fahrenheit(20)\n",
    "convert_celsius_to_fahrenheit(10) "
   ]
  },
  {
   "cell_type": "markdown",
   "metadata": {
    "slideshow": {
     "slide_type": "subslide"
    }
   },
   "source": [
    "* An alterantive way to write the same function\n",
    "* Instead of using `print()` we can `return` the result\n",
    "* And store the result in a new variable `result_fahrenheit`"
   ]
  },
  {
   "cell_type": "code",
   "execution_count": 44,
   "metadata": {
    "slideshow": {
     "slide_type": "fragment"
    }
   },
   "outputs": [],
   "source": [
    "def convert_celsius_to_fahrenheit(deg_celsius):\n",
    "    deg_fahrenheit = 9.0/5.0 * deg_celsius + 32\n",
    "    return deg_fahrenheit"
   ]
  },
  {
   "cell_type": "code",
   "execution_count": 45,
   "metadata": {
    "slideshow": {
     "slide_type": "fragment"
    }
   },
   "outputs": [
    {
     "name": "stdout",
     "output_type": "stream",
     "text": [
      "71.6\n"
     ]
    }
   ],
   "source": [
    "result_fahrenheit = convert_celsius_to_fahrenheit(22)\n",
    "print(result_fahrenheit)"
   ]
  },
  {
   "cell_type": "markdown",
   "metadata": {
    "slideshow": {
     "slide_type": "subslide"
    }
   },
   "source": [
    "* Watch out for whitespace rules!\n",
    "* if you use `:` then you must indent (use tab or 4 spaces) on the next line"
   ]
  },
  {
   "cell_type": "code",
   "execution_count": 46,
   "metadata": {
    "slideshow": {
     "slide_type": "fragment"
    }
   },
   "outputs": [
    {
     "ename": "IndentationError",
     "evalue": "expected an indented block (<ipython-input-46-33c89eb1548a>, line 2)",
     "output_type": "error",
     "traceback": [
      "\u001b[0;36m  File \u001b[0;32m\"<ipython-input-46-33c89eb1548a>\"\u001b[0;36m, line \u001b[0;32m2\u001b[0m\n\u001b[0;31m    deg_fahrenheit = 9.0/5.0 * deg_celsius + 32\u001b[0m\n\u001b[0m                 ^\u001b[0m\n\u001b[0;31mIndentationError\u001b[0m\u001b[0;31m:\u001b[0m expected an indented block\n"
     ]
    }
   ],
   "source": [
    "def convert_celsius_to_fahrenheit(deg_celsius):\n",
    "deg_fahrenheit = 9.0/5.0 * deg_celsius + 32\n",
    "return deg_fahrenheit "
   ]
  },
  {
   "cell_type": "markdown",
   "metadata": {
    "slideshow": {
     "slide_type": "subslide"
    }
   },
   "source": [
    "* If a func returns a value you can pass it to another func"
   ]
  },
  {
   "cell_type": "code",
   "execution_count": 47,
   "metadata": {
    "slideshow": {
     "slide_type": "fragment"
    }
   },
   "outputs": [],
   "source": [
    "def add(num1, num2):\n",
    "    return num1 + num2\n",
    "\n",
    "def square(num):\n",
    "    return num ** 2  "
   ]
  },
  {
   "cell_type": "code",
   "execution_count": 48,
   "metadata": {
    "slideshow": {
     "slide_type": "fragment"
    }
   },
   "outputs": [
    {
     "name": "stdout",
     "output_type": "stream",
     "text": [
      "4\n"
     ]
    }
   ],
   "source": [
    "result = square(add(1, 1))\n",
    "print(result)  "
   ]
  },
  {
   "cell_type": "markdown",
   "metadata": {
    "slideshow": {
     "slide_type": "slide"
    }
   },
   "source": [
    "## Comments in code"
   ]
  },
  {
   "cell_type": "code",
   "execution_count": 49,
   "metadata": {
    "slideshow": {
     "slide_type": "fragment"
    }
   },
   "outputs": [],
   "source": [
    "def convert_celsius_to_fahrenheit(deg_celsius):\n",
    "    '''\n",
    "    Converts d egrees celcius to degrees fahrenheit\n",
    "    Returns a float representing the temperature in degrees fahrenheit.\n",
    "    \n",
    "    Keyword arguments:\n",
    "    deg_celsius -- a float temperature in degress celsius e.g. 18.5\n",
    "    '''\n",
    "    deg_fahrenheit = 9.0/5.0 * deg_celsius + 32\n",
    "    return deg_fahrenheit"
   ]
  },
  {
   "cell_type": "code",
   "execution_count": 50,
   "metadata": {
    "slideshow": {
     "slide_type": "subslide"
    }
   },
   "outputs": [
    {
     "name": "stdout",
     "output_type": "stream",
     "text": [
      "Help on function convert_celsius_to_fahrenheit in module __main__:\n",
      "\n",
      "convert_celsius_to_fahrenheit(deg_celsius)\n",
      "    Converts d egrees celcius to degrees fahrenheit\n",
      "    Returns a float representing the temperature in degrees fahrenheit.\n",
      "    \n",
      "    Keyword arguments:\n",
      "    deg_celsius -- a float temperature in degress celsius e.g. 18.5\n",
      "\n"
     ]
    }
   ],
   "source": [
    "help(convert_celsius_to_fahrenheit)"
   ]
  },
  {
   "cell_type": "markdown",
   "metadata": {
    "slideshow": {
     "slide_type": "subslide"
    }
   },
   "source": [
    "* Using `#` is another way to add comments to code\n",
    "* Useful to clarify \"complex\" code and aid your memory.\n",
    "* Won't be picked up by `help()`"
   ]
  },
  {
   "cell_type": "code",
   "execution_count": 51,
   "metadata": {
    "slideshow": {
     "slide_type": "fragment"
    }
   },
   "outputs": [],
   "source": [
    "from math import pi\n",
    "\n",
    "def area_of_circle(radius):\n",
    "    #  pi x squared(radius)\n",
    "    area = pi * radius ** 2 \n",
    "    return area "
   ]
  },
  {
   "cell_type": "code",
   "execution_count": 52,
   "metadata": {
    "slideshow": {
     "slide_type": "fragment"
    }
   },
   "outputs": [
    {
     "name": "stdout",
     "output_type": "stream",
     "text": [
      "Help on function area_of_circle in module __main__:\n",
      "\n",
      "area_of_circle(radius)\n",
      "\n"
     ]
    }
   ],
   "source": [
    "help(area_of_circle)"
   ]
  },
  {
   "cell_type": "markdown",
   "metadata": {
    "slideshow": {
     "slide_type": "slide"
    }
   },
   "source": [
    "## In Python Functions can return multiple values"
   ]
  },
  {
   "cell_type": "code",
   "execution_count": 70,
   "metadata": {
    "slideshow": {
     "slide_type": "subslide"
    }
   },
   "outputs": [
    {
     "name": "stdout",
     "output_type": "stream",
     "text": [
      "The variable 'results': (15, 5, 3.0) has type <class 'tuple'>\n",
      "Split into seperate variables sum 15, length 5, mean 3.0\n"
     ]
    }
   ],
   "source": [
    "def list_info(data):\n",
    "    '''\n",
    "    Returns Sum, Length and Mean of list @data \n",
    "    Keyword arguments\n",
    "    data -- a list containing numeric data\n",
    "    '''\n",
    "    list_sum = sum(data)\n",
    "    list_length = len(data)\n",
    "    list_mean = list_sum / list_length\n",
    "    \n",
    "    return list_sum, list_length, list_mean\n",
    "\n",
    "data = [1, 2, 3, 4, 5]\n",
    "\n",
    "results = list_info(data)\n",
    "print(\"The variable 'results': {0} has type {1}\".format(results, type(results)))\n",
    "\n",
    "data_sum, data_length, data_mean = list_info(data)\n",
    "print('Split into seperate variables sum {0}, length {1}, mean {2}'.format(data_sum, data_length, data_mean))"
   ]
  },
  {
   "cell_type": "markdown",
   "metadata": {
    "slideshow": {
     "slide_type": "slide"
    }
   },
   "source": [
    "* Please have a go at the lab material.  \n",
    "* You will need to understand the basics to do well on the course"
   ]
  }
 ],
 "metadata": {
  "celltoolbar": "Slideshow",
  "kernelspec": {
   "display_name": "Python 3",
   "language": "python",
   "name": "python3"
  },
  "language_info": {
   "codemirror_mode": {
    "name": "ipython",
    "version": 3
   },
   "file_extension": ".py",
   "mimetype": "text/x-python",
   "name": "python",
   "nbconvert_exporter": "python",
   "pygments_lexer": "ipython3",
   "version": "3.7.2"
  }
 },
 "nbformat": 4,
 "nbformat_minor": 2
}
