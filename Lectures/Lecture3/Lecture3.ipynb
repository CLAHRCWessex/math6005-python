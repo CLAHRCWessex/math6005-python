{
 "cells": [
  {
   "cell_type": "markdown",
   "metadata": {
    "slideshow": {
     "slide_type": "slide"
    }
   },
   "source": [
    "# Lecture 3: MATH6005 Introduction to Python\n",
    "\n",
    "### Introduction to scientific programming using NumPy\n",
    "\n",
    "Dr Tom Monks.\n"
   ]
  },
  {
   "cell_type": "markdown",
   "metadata": {
    "slideshow": {
     "slide_type": "subslide"
    }
   },
   "source": [
    "## Topics covered\n",
    "\n",
    "* Python data science libraries\n",
    "* Introduction to NumPy\n",
    "* Numpy arrays (versus Lists)\n",
    "* Creating 1D NumPy arrays\n",
    "* Accessing data in numpy arrays\n",
    "* NumPy dataTypes\n",
    "* Data wrangling and analysis"
   ]
  },
  {
   "cell_type": "markdown",
   "metadata": {
    "slideshow": {
     "slide_type": "slide"
    }
   },
   "source": [
    "## Python data science libraries\n",
    "\n",
    "There is a whole ecosystem of scientific python libraries built around manipulating, processing and visualising data\n",
    "\n",
    "* **NumPy** – the fundamental package for numerical computation\n",
    "* SciPy library – numerical algorithms and analysis toolboxes\n",
    "* Matplotlib – high quality 2D plotting tools\n",
    "* Pandas – high performance and easy to use data structures\n",
    "* SciKit Learn – Machine learning"
   ]
  },
  {
   "cell_type": "markdown",
   "metadata": {
    "slideshow": {
     "slide_type": "slide"
    }
   },
   "source": [
    "## The `import` statement (revision)\n",
    "\n",
    "* The data science modules need to be imported into your Python script before you can us them\n",
    "* This is achieved using the `import` statement."
   ]
  },
  {
   "cell_type": "code",
   "execution_count": 1,
   "metadata": {
    "slideshow": {
     "slide_type": "subslide"
    }
   },
   "outputs": [],
   "source": [
    "import numpy as np"
   ]
  },
  {
   "cell_type": "markdown",
   "metadata": {
    "slideshow": {
     "slide_type": "fragment"
    }
   },
   "source": [
    "* Here we have imported the `numpy` package and aliased it as `np`\n",
    "* The alias is a shorthand for accessing functions e.g."
   ]
  },
  {
   "cell_type": "code",
   "execution_count": 5,
   "metadata": {
    "slideshow": {
     "slide_type": "fragment"
    }
   },
   "outputs": [
    {
     "name": "stdout",
     "output_type": "stream",
     "text": [
      "1\n"
     ]
    }
   ],
   "source": [
    "random_number = np.random.randint(0, 10)\n",
    "print(random_number)"
   ]
  },
  {
   "cell_type": "markdown",
   "metadata": {
    "slideshow": {
     "slide_type": "slide"
    }
   },
   "source": [
    "## Introduction to NumPy"
   ]
  },
  {
   "cell_type": "markdown",
   "metadata": {
    "slideshow": {
     "slide_type": "fragment"
    }
   },
   "source": [
    "* So far we have used a `List` for holding 'arrays' of data\n",
    "* Lists are easy to use and very flexible  "
   ]
  },
  {
   "cell_type": "code",
   "execution_count": 3,
   "metadata": {
    "slideshow": {
     "slide_type": "fragment"
    }
   },
   "outputs": [
    {
     "name": "stdout",
     "output_type": "stream",
     "text": [
      "[999, 3, 9.5, 'eggs', ['sub list', 3], <class 'int'>, 'foo']\n"
     ]
    }
   ],
   "source": [
    "my_list = ['spam', 3, 9.5, 'eggs', ['sub list', 3], int]\n",
    "my_list.append('foo')\n",
    "my_list[0] = 999\n",
    "print(my_list)"
   ]
  },
  {
   "cell_type": "markdown",
   "metadata": {
    "slideshow": {
     "slide_type": "subslide"
    }
   },
   "source": [
    "* The flexibility of a `List` means that they are not well suited to scientific computing\n",
    "* NumPy provides optimised efficient code for managing data (typically quantitative data)\n",
    "* NumPy is 'closer to the metal'\n",
    "* For scientific computing you **should** use numpy instead of Python Lists"
   ]
  },
  {
   "cell_type": "markdown",
   "metadata": {
    "slideshow": {
     "slide_type": "subslide"
    }
   },
   "source": [
    "### NumPy Arrays\n",
    "\n",
    "* The fundermental building block of numpy is the `numpy.ndarray`"
   ]
  },
  {
   "cell_type": "code",
   "execution_count": 4,
   "metadata": {
    "slideshow": {
     "slide_type": "fragment"
    }
   },
   "outputs": [
    {
     "name": "stdout",
     "output_type": "stream",
     "text": [
      "[1 2 3 4 5 6]\n",
      "4\n"
     ]
    }
   ],
   "source": [
    "my_arr = np.array([1, 2, 3, 4, 5, 6])\n",
    "print(my_arr)\n",
    "print(my_arr[3])  "
   ]
  },
  {
   "cell_type": "markdown",
   "metadata": {
    "slideshow": {
     "slide_type": "fragment"
    }
   },
   "source": [
    "* It looks similar to a list.\n",
    "* Let's see what happens if we try to treat it as a List..."
   ]
  },
  {
   "cell_type": "code",
   "execution_count": 5,
   "metadata": {
    "slideshow": {
     "slide_type": "subslide"
    }
   },
   "outputs": [
    {
     "ename": "AttributeError",
     "evalue": "'numpy.ndarray' object has no attribute 'append'",
     "output_type": "error",
     "traceback": [
      "\u001b[0;31m---------------------------------------------------------------------------\u001b[0m",
      "\u001b[0;31mAttributeError\u001b[0m                            Traceback (most recent call last)",
      "\u001b[0;32m<ipython-input-5-1b4f0977d0f8>\u001b[0m in \u001b[0;36m<module>\u001b[0;34m()\u001b[0m\n\u001b[1;32m      1\u001b[0m \u001b[0mmy_arr\u001b[0m \u001b[0;34m=\u001b[0m \u001b[0mnp\u001b[0m\u001b[0;34m.\u001b[0m\u001b[0marray\u001b[0m\u001b[0;34m(\u001b[0m\u001b[0;34m[\u001b[0m\u001b[0;36m1\u001b[0m\u001b[0;34m,\u001b[0m \u001b[0;36m2\u001b[0m\u001b[0;34m,\u001b[0m \u001b[0;36m3\u001b[0m\u001b[0;34m,\u001b[0m \u001b[0;36m4\u001b[0m\u001b[0;34m,\u001b[0m \u001b[0;36m5\u001b[0m\u001b[0;34m,\u001b[0m \u001b[0;36m6\u001b[0m\u001b[0;34m]\u001b[0m\u001b[0;34m)\u001b[0m\u001b[0;34m\u001b[0m\u001b[0;34m\u001b[0m\u001b[0m\n\u001b[0;32m----> 2\u001b[0;31m \u001b[0mmy_arr\u001b[0m\u001b[0;34m.\u001b[0m\u001b[0mappend\u001b[0m\u001b[0;34m(\u001b[0m\u001b[0;36m7\u001b[0m\u001b[0;34m)\u001b[0m\u001b[0;34m\u001b[0m\u001b[0;34m\u001b[0m\u001b[0m\n\u001b[0m",
      "\u001b[0;31mAttributeError\u001b[0m: 'numpy.ndarray' object has no attribute 'append'"
     ]
    }
   ],
   "source": [
    "my_arr = np.array([1, 2, 3, 4, 5, 6])\n",
    "my_arr.append(7)"
   ]
  },
  {
   "cell_type": "code",
   "execution_count": 6,
   "metadata": {
    "slideshow": {
     "slide_type": "fragment"
    }
   },
   "outputs": [
    {
     "ename": "ValueError",
     "evalue": "invalid literal for int() with base 10: 'foo'",
     "output_type": "error",
     "traceback": [
      "\u001b[0;31m---------------------------------------------------------------------------\u001b[0m",
      "\u001b[0;31mValueError\u001b[0m                                Traceback (most recent call last)",
      "\u001b[0;32m<ipython-input-6-bf8976ca4c67>\u001b[0m in \u001b[0;36m<module>\u001b[0;34m()\u001b[0m\n\u001b[0;32m----> 1\u001b[0;31m \u001b[0mmy_arr\u001b[0m\u001b[0;34m[\u001b[0m\u001b[0;36m0\u001b[0m\u001b[0;34m]\u001b[0m \u001b[0;34m=\u001b[0m \u001b[0;34m'foo'\u001b[0m\u001b[0;34m\u001b[0m\u001b[0;34m\u001b[0m\u001b[0m\n\u001b[0m",
      "\u001b[0;31mValueError\u001b[0m: invalid literal for int() with base 10: 'foo'"
     ]
    }
   ],
   "source": [
    "my_arr[0] = 'foo'"
   ]
  },
  {
   "cell_type": "markdown",
   "metadata": {
    "slideshow": {
     "slide_type": "subslide"
    }
   },
   "source": [
    "* NumPy array are **NOTHING** like a `List`.\n",
    "* Array size and datatype are declared **upfront** and data are stored efficiently in memory.\n",
    "* This improves performance - sometimes dramatically.\n",
    "* The consequences are that arrays only allow variables of 1 data type and size must be known in advance"
   ]
  },
  {
   "cell_type": "markdown",
   "metadata": {
    "slideshow": {
     "slide_type": "subslide"
    }
   },
   "source": [
    "### NumPy Arrays are N-Dimensional \n",
    "* You can think of a `numpy.ndarray` as a **matrix**\n",
    "* E.g. you could have a (2 x 2) matrix"
   ]
  },
  {
   "cell_type": "code",
   "execution_count": 7,
   "metadata": {
    "slideshow": {
     "slide_type": "fragment"
    }
   },
   "outputs": [
    {
     "name": "stdout",
     "output_type": "stream",
     "text": [
      "[[1 0]\n",
      " [0 1]]\n"
     ]
    }
   ],
   "source": [
    "matrix_2x2 = np.array([[1, 0], [0, 1]])\n",
    "print(matrix_2x2) "
   ]
  },
  {
   "cell_type": "markdown",
   "metadata": {
    "slideshow": {
     "slide_type": "fragment"
    }
   },
   "source": [
    "* Today we will focus on 1d  \n",
    "* We will cover > 1 dimension in the next lecture"
   ]
  },
  {
   "cell_type": "markdown",
   "metadata": {
    "slideshow": {
     "slide_type": "slide"
    }
   },
   "source": [
    "## Creating 1-Dimensional Arrays"
   ]
  },
  {
   "cell_type": "markdown",
   "metadata": {
    "slideshow": {
     "slide_type": "fragment"
    }
   },
   "source": [
    "* Pre-populated Arrays"
   ]
  },
  {
   "cell_type": "code",
   "execution_count": 3,
   "metadata": {
    "slideshow": {
     "slide_type": "fragment"
    }
   },
   "outputs": [
    {
     "name": "stdout",
     "output_type": "stream",
     "text": [
      "[1.5  1.67 8.99]\n"
     ]
    }
   ],
   "source": [
    "my_arr = np.array([1, 2, 3, 4, 5, 6])\n",
    "my_arr2 = np.array([1.5, 1.67, 8.99])\n",
    "my_arr3 = np.array(['spam', 'eggs', 'foo', 'bar'])\n",
    "print(my_arr2)"
   ]
  },
  {
   "cell_type": "markdown",
   "metadata": {
    "slideshow": {
     "slide_type": "subslide"
    }
   },
   "source": [
    "* Sequences of numbers using `np.arange`\n",
    "* Useful when testing code"
   ]
  },
  {
   "cell_type": "code",
   "execution_count": 9,
   "metadata": {
    "slideshow": {
     "slide_type": "fragment"
    }
   },
   "outputs": [
    {
     "name": "stdout",
     "output_type": "stream",
     "text": [
      "[0 1 2 3 4 5 6 7 8 9]\n"
     ]
    }
   ],
   "source": [
    "my_arr = np.arange(10)\n",
    "print(my_arr)"
   ]
  },
  {
   "cell_type": "markdown",
   "metadata": {
    "slideshow": {
     "slide_type": "subslide"
    }
   },
   "source": [
    "* Create empty arrays\n",
    "* NumPy fills it with random data from memory"
   ]
  },
  {
   "cell_type": "code",
   "execution_count": 10,
   "metadata": {
    "slideshow": {
     "slide_type": "fragment"
    }
   },
   "outputs": [
    {
     "name": "stdout",
     "output_type": "stream",
     "text": [
      "[139641206150632 139641206150656 139641332507904 139641332507848\n",
      " 139641411581488 139641414146288 139641205983472 139641417985192\n",
      " 139641205964568 139641205983728]\n",
      "int64\n"
     ]
    }
   ],
   "source": [
    "my_arr = np.empty(10, dtype=np.int64)\n",
    "print(my_arr)\n",
    "print(my_arr.dtype)"
   ]
  },
  {
   "cell_type": "markdown",
   "metadata": {
    "slideshow": {
     "slide_type": "subslide"
    }
   },
   "source": [
    "* Create arrays of zeros"
   ]
  },
  {
   "cell_type": "code",
   "execution_count": 11,
   "metadata": {
    "slideshow": {
     "slide_type": "fragment"
    }
   },
   "outputs": [
    {
     "name": "stdout",
     "output_type": "stream",
     "text": [
      "[0 0 0 0 0 0 0 0 0 0]\n",
      "int64\n"
     ]
    }
   ],
   "source": [
    "my_arr = np.zeros(10, dtype=np.int64)\n",
    "print(my_arr)\n",
    "print(my_arr.dtype)"
   ]
  },
  {
   "cell_type": "markdown",
   "metadata": {
    "slideshow": {
     "slide_type": "subslide"
    }
   },
   "source": [
    "* It is always a good idea to check the `shape` of your array\n",
    "* This is useful for 1D and multi-dimentional arrays (covered in Lecture 4)"
   ]
  },
  {
   "cell_type": "code",
   "execution_count": 7,
   "metadata": {
    "slideshow": {
     "slide_type": "fragment"
    }
   },
   "outputs": [
    {
     "data": {
      "text/plain": [
       "(5000,)"
      ]
     },
     "execution_count": 7,
     "metadata": {},
     "output_type": "execute_result"
    }
   ],
   "source": [
    "my_arr = np.arange(5000)\n",
    "my_arr.shape"
   ]
  },
  {
   "cell_type": "markdown",
   "metadata": {
    "slideshow": {
     "slide_type": "slide"
    }
   },
   "source": [
    "## Useful properties of NumPy arrays for data science (1)\n",
    "\n",
    "* Speed of computation"
   ]
  },
  {
   "cell_type": "code",
   "execution_count": 8,
   "metadata": {
    "slideshow": {
     "slide_type": "subslide"
    }
   },
   "outputs": [],
   "source": [
    "python_list = list(range(1000000))\n",
    "numpy_array = np.arange(1000000)"
   ]
  },
  {
   "cell_type": "code",
   "execution_count": 9,
   "metadata": {
    "slideshow": {
     "slide_type": "fragment"
    }
   },
   "outputs": [
    {
     "name": "stdout",
     "output_type": "stream",
     "text": [
      "6.01 ms ± 75.6 µs per loop (mean ± std. dev. of 7 runs, 100 loops each)\n"
     ]
    }
   ],
   "source": [
    "%timeit sum(python_list)"
   ]
  },
  {
   "cell_type": "code",
   "execution_count": 11,
   "metadata": {
    "slideshow": {
     "slide_type": "fragment"
    }
   },
   "outputs": [
    {
     "name": "stdout",
     "output_type": "stream",
     "text": [
      "679 µs ± 6.64 µs per loop (mean ± std. dev. of 7 runs, 1000 loops each)\n"
     ]
    }
   ],
   "source": [
    "%timeit np.sum(numpy_array)"
   ]
  },
  {
   "cell_type": "markdown",
   "metadata": {
    "slideshow": {
     "slide_type": "subslide"
    }
   },
   "source": [
    "## Useful properties of NumPy arrays for data science (2)\n",
    "\n",
    "* You can think of a `numpy.ndarray` as a **matrix**\n",
    "* NumPy makes matrix algebra **very** easy (minimal code) and **fast**"
   ]
  },
  {
   "cell_type": "code",
   "execution_count": 16,
   "metadata": {
    "slideshow": {
     "slide_type": "subslide"
    }
   },
   "outputs": [
    {
     "name": "stdout",
     "output_type": "stream",
     "text": [
      "[ 0 10 20 30]\n"
     ]
    }
   ],
   "source": [
    "x = np.array([10, 20, 30, 40])\n",
    "y = np.array([10, 10, 10, 10])\n",
    "\n",
    "z = x - y\n",
    "\n",
    "print(z)"
   ]
  },
  {
   "cell_type": "code",
   "execution_count": 17,
   "metadata": {
    "slideshow": {
     "slide_type": "subslide"
    }
   },
   "outputs": [
    {
     "name": "stdout",
     "output_type": "stream",
     "text": [
      "[ 225  625 1225 2025]\n"
     ]
    }
   ],
   "source": [
    "x = np.array([10, 20, 30, 40], dtype=np.int64)\n",
    "y = x + 5\n",
    "z = y ** 2\n",
    "\n",
    "print(z)"
   ]
  },
  {
   "cell_type": "markdown",
   "metadata": {
    "slideshow": {
     "slide_type": "subslide"
    }
   },
   "source": [
    "## Accessing and manipulating data in an NumPy array"
   ]
  },
  {
   "cell_type": "code",
   "execution_count": 13,
   "metadata": {
    "slideshow": {
     "slide_type": "fragment"
    }
   },
   "outputs": [
    {
     "name": "stdout",
     "output_type": "stream",
     "text": [
      "[0 1 2 3 4 5 6 7 8 9]\n",
      "[  0   1   2   3 444   5   6   7   8   9]\n"
     ]
    }
   ],
   "source": [
    "short_sequence = np.arange(10, dtype=np.int16)\n",
    "print(short_sequence)\n",
    "short_sequence[4] = 444\n",
    "print(short_sequence)"
   ]
  },
  {
   "cell_type": "markdown",
   "metadata": {
    "slideshow": {
     "slide_type": "subslide"
    }
   },
   "source": [
    "* **Tip**: NumPy is strict about datatypes.  \n",
    "* If you put a float (decimal number) into an integer array then it will be **truncated**"
   ]
  },
  {
   "cell_type": "code",
   "execution_count": 19,
   "metadata": {
    "slideshow": {
     "slide_type": "fragment"
    }
   },
   "outputs": [
    {
     "name": "stdout",
     "output_type": "stream",
     "text": [
      "[22  1  2  3  4]\n"
     ]
    }
   ],
   "source": [
    "integer_matrix = np.arange(5, dtype=np.int64)\n",
    "floating_point_number = 22.667\n",
    "integer_matrix[0] = floating_point_number\n",
    "\n",
    "print(integer_matrix)"
   ]
  },
  {
   "cell_type": "markdown",
   "metadata": {
    "slideshow": {
     "slide_type": "subslide"
    }
   },
   "source": [
    "### Accessing subsets using slicing\n",
    "\n",
    "* Access subsets of arrays uses **slicing** notation\n",
    "* `array[start:end:step]`\n",
    "* `start` is included and `end` is excluded `[start, end)`\n",
    "* **Tip**: if `start` or `end` are *ommitted* numpy uses the corresponding index for the start or end of the array\n",
    "* **Tip**: Don't forget that arrays are **zero** indexed"
   ]
  },
  {
   "cell_type": "markdown",
   "metadata": {
    "slideshow": {
     "slide_type": "subslide"
    }
   },
   "source": [
    "**Slicing: Example 1**\n",
    "* `matrix = [10, 11, 12, 13, 14, 15]`\n",
    "* Select array elements 3 through 4"
   ]
  },
  {
   "cell_type": "code",
   "execution_count": 20,
   "metadata": {
    "slideshow": {
     "slide_type": "fragment"
    }
   },
   "outputs": [],
   "source": [
    "complete_matrix = np.array([10, 11, 12, 13, 14, 15])"
   ]
  },
  {
   "cell_type": "code",
   "execution_count": 22,
   "metadata": {
    "slideshow": {
     "slide_type": "fragment"
    }
   },
   "outputs": [
    {
     "name": "stdout",
     "output_type": "stream",
     "text": [
      "complete matrix: [10 11 12 13 14 15]\n",
      "slice of matrix: [13 14]\n"
     ]
    }
   ],
   "source": [
    "slice_matrix = complete_matrix[3:5]\n",
    "\n",
    "print('complete matrix: {0}'.format(complete_matrix))\n",
    "print('slice of matrix: {0}'.format(slice_matrix))"
   ]
  },
  {
   "cell_type": "markdown",
   "metadata": {
    "slideshow": {
     "slide_type": "subslide"
    }
   },
   "source": [
    "**Slicing: Example 2**\n",
    "\n",
    "* `matrix = [0, 1, 2, 3, 4, 5, 6, 7, 8, 9]`\n",
    "* Select the last four elements of the array\n",
    "* We can do this by ommitting the `end` parameter"
   ]
  },
  {
   "cell_type": "code",
   "execution_count": 23,
   "metadata": {
    "slideshow": {
     "slide_type": "fragment"
    }
   },
   "outputs": [
    {
     "name": "stdout",
     "output_type": "stream",
     "text": [
      "[0 1 2 3 4 5 6 7 8 9]\n"
     ]
    }
   ],
   "source": [
    "complete_matrix = np.arange(10)\n",
    "print(complete_matrix)"
   ]
  },
  {
   "cell_type": "code",
   "execution_count": 24,
   "metadata": {
    "slideshow": {
     "slide_type": "fragment"
    }
   },
   "outputs": [
    {
     "name": "stdout",
     "output_type": "stream",
     "text": [
      "original matrix: [0 1 2 3 4 5 6 7 8 9]\n",
      "slice of matrix: [6 7 8 9]\n"
     ]
    }
   ],
   "source": [
    "slice_matrix = complete_matrix[6:]\n",
    "\n",
    "print('original matrix: {0}'.format(complete_matrix))\n",
    "print('slice of matrix: {0}'.format(slice_matrix))"
   ]
  },
  {
   "cell_type": "markdown",
   "metadata": {
    "slideshow": {
     "slide_type": "subslide"
    }
   },
   "source": [
    "* An alterative way to slice is to use negative notation\n",
    "* Negative notation e.g. `-x` is interpreted as `length of array - x`"
   ]
  },
  {
   "cell_type": "code",
   "execution_count": 25,
   "metadata": {
    "slideshow": {
     "slide_type": "fragment"
    }
   },
   "outputs": [
    {
     "name": "stdout",
     "output_type": "stream",
     "text": [
      "complete matrix: [0 1 2 3 4 5 6 7 8 9]\n",
      "slice of matrix: [6 7 8 9]\n"
     ]
    }
   ],
   "source": [
    "slice_matrix = complete_matrix[-4:]\n",
    "\n",
    "print('complete matrix: {0}'.format(complete_matrix))\n",
    "print('slice of matrix: {0}'.format(slice_matrix))"
   ]
  },
  {
   "cell_type": "markdown",
   "metadata": {
    "slideshow": {
     "slide_type": "subslide"
    }
   },
   "source": [
    "**Slicing: Example 3**\n",
    "\n",
    "* `matrix = [10, 11, 12, 13, 14, 15, 16, 17, 18, 19]`\n",
    "* Select the first three elements of the array"
   ]
  },
  {
   "cell_type": "code",
   "execution_count": 13,
   "metadata": {
    "slideshow": {
     "slide_type": "fragment"
    }
   },
   "outputs": [
    {
     "name": "stdout",
     "output_type": "stream",
     "text": [
      "original matrix: [10 11 12 13 14 15 16 17 18 19]\n",
      "slice of matrix: [10 11 12]\n"
     ]
    }
   ],
   "source": [
    "complete_matrix = np.arange(10, 20)\n",
    "\n",
    "slice_matrix = complete_matrix[0:3]  #could also omit the start of 0\n",
    "\n",
    "print('original matrix: {0}'.format(complete_matrix))\n",
    "print('slice of matrix: {0}'.format(slice_matrix))"
   ]
  },
  {
   "cell_type": "markdown",
   "metadata": {
    "slideshow": {
     "slide_type": "subslide"
    }
   },
   "source": [
    "* Alternative using negative notation"
   ]
  },
  {
   "cell_type": "code",
   "execution_count": 27,
   "metadata": {
    "slideshow": {
     "slide_type": "fragment"
    }
   },
   "outputs": [
    {
     "name": "stdout",
     "output_type": "stream",
     "text": [
      "original matrix: [10 11 12 13 14 15 16 17 18 19]\n",
      "slice of matrix: [10 11 12]\n"
     ]
    }
   ],
   "source": [
    "slice_matrix = complete_matrix[0:-7]\n",
    "\n",
    "print('original matrix: {0}'.format(complete_matrix))\n",
    "print('slice of matrix: {0}'.format(slice_matrix))"
   ]
  },
  {
   "cell_type": "markdown",
   "metadata": {
    "slideshow": {
     "slide_type": "subslide"
    }
   },
   "source": [
    "### Accessing data using fancy indexing"
   ]
  },
  {
   "cell_type": "code",
   "execution_count": 15,
   "metadata": {
    "slideshow": {
     "slide_type": "fragment"
    }
   },
   "outputs": [
    {
     "name": "stdout",
     "output_type": "stream",
     "text": [
      "original matrix: [10 11 12 13 14 15 16 17 18 19]\n",
      "sub matrix: [12 14 16]\n"
     ]
    }
   ],
   "source": [
    "indexes = [2, 4, 6]\n",
    "sub_matrix = complete_matrix[indexes]\n",
    "\n",
    "print('original matrix: {0}'.format(complete_matrix))\n",
    "print('sub matrix: {0}'.format(sub_matrix))\n"
   ]
  },
  {
   "cell_type": "markdown",
   "metadata": {
    "slideshow": {
     "slide_type": "subslide"
    }
   },
   "source": [
    "#### Watch out!  \n",
    "* A slice is a **view** of the data.  It is **not** a copy."
   ]
  },
  {
   "cell_type": "code",
   "execution_count": 17,
   "metadata": {
    "slideshow": {
     "slide_type": "fragment"
    }
   },
   "outputs": [
    {
     "name": "stdout",
     "output_type": "stream",
     "text": [
      "[10 11 12]\n",
      "[999  11  12]\n"
     ]
    }
   ],
   "source": [
    "complete_matrix = np.arange(10, 20)\n",
    "slice_matrix = complete_matrix[0:3] \n",
    "\n",
    "print(slice_matrix)\n",
    "slice_matrix[0] = 999\n",
    "print(slice_matrix)"
   ]
  },
  {
   "cell_type": "code",
   "execution_count": 31,
   "metadata": {
    "slideshow": {
     "slide_type": "fragment"
    }
   },
   "outputs": [
    {
     "name": "stdout",
     "output_type": "stream",
     "text": [
      "[999  11  12  13  14  15  16  17  18  19]\n"
     ]
    }
   ],
   "source": [
    "print(complete_matrix)"
   ]
  },
  {
   "cell_type": "markdown",
   "metadata": {
    "slideshow": {
     "slide_type": "slide"
    }
   },
   "source": [
    "## Practical Example of using NumPy for data analysis\n",
    "\n",
    "**ED attendance data**\n",
    "\n",
    "Data is held in the `minor_illness_ed_attends.csv`\n",
    "\n",
    "Description: The number of patients registered at GP surgery who attend ED per week (standardised to 10k of registered patients)."
   ]
  },
  {
   "cell_type": "markdown",
   "metadata": {
    "slideshow": {
     "slide_type": "subslide"
    }
   },
   "source": [
    "We are going to:\n",
    "\n",
    "1. Read in data from file into a numpy array (data is 1 dimensional)\n",
    "2. Calculate some summary statistics (mean, stdev, percentiles)\n",
    "3. Produce a frequency histogram\n",
    "4. Analyse the mean attendences before week 10 and after and including week 10\n",
    "5. Identify the top 5% of weeks of attendences for further investigation."
   ]
  },
  {
   "cell_type": "markdown",
   "metadata": {
    "slideshow": {
     "slide_type": "subslide"
    }
   },
   "source": [
    "#### Step 1: Read in the data"
   ]
  },
  {
   "cell_type": "code",
   "execution_count": 22,
   "metadata": {
    "slideshow": {
     "slide_type": "fragment"
    }
   },
   "outputs": [],
   "source": [
    "file_name = 'data/minor_illness_ed_attends.csv'\n",
    "ed_data = np.genfromtxt(file_name, skip_header=1, delimiter=',')"
   ]
  },
  {
   "cell_type": "code",
   "execution_count": 23,
   "metadata": {
    "slideshow": {
     "slide_type": "fragment"
    }
   },
   "outputs": [
    {
     "name": "stdout",
     "output_type": "stream",
     "text": [
      "(74,)\n",
      "float64\n"
     ]
    }
   ],
   "source": [
    "print(ed_data.shape)\n",
    "print(ed_data.dtype)"
   ]
  },
  {
   "cell_type": "markdown",
   "metadata": {
    "slideshow": {
     "slide_type": "subslide"
    }
   },
   "source": [
    "#### Step 2: Calculate summary statistics\n",
    "\n",
    "* NumPy makes it easy to calculate means, stdev and other summary statistics of ndarrays."
   ]
  },
  {
   "cell_type": "code",
   "execution_count": 19,
   "metadata": {
    "slideshow": {
     "slide_type": "subslide"
    }
   },
   "outputs": [],
   "source": [
    "def ed_summary_statistics(data):\n",
    "    \"\"\"\n",
    "    Returns mean, stdev and 5/95 percentiles of ed data\n",
    "    \n",
    "    Keyword arguments:\n",
    "    data -- 1d numpy.ndarray containing data to analyse\n",
    "    \"\"\"\n",
    "    mean = data.mean()\n",
    "    std = data.std()\n",
    "    min_attends = data.min()\n",
    "    max_attends = data.max()\n",
    "    per_95 = np.percentile(data, 95)\n",
    "    \n",
    "    return mean, std, min_attends, max_attends, per_95"
   ]
  },
  {
   "cell_type": "code",
   "execution_count": 20,
   "metadata": {
    "slideshow": {
     "slide_type": "subslide"
    }
   },
   "outputs": [],
   "source": [
    "def print_summary_stats(mean, std, minimum, maximum, per_95):\n",
    "    \"\"\"\n",
    "    Prints summary statistics in formatted text.\n",
    "    \n",
    "    Keyword arguments:\n",
    "    mean -- mean average\n",
    "    std -- standard deviation \n",
    "    minimum -- min value\n",
    "    maximum -- max value\n",
    "    \"\"\"\n",
    "    print('Mean:\\t{0:0.2f}'.format(mean))\n",
    "    print('Stdev:\\t{0:0.2f}'.format(std))\n",
    "    print('Min:\\t{0:0.2f}'.format(minimum))\n",
    "    print('Max:\\t{0:0.2f}'.format(maximum))\n",
    "    print('95th:\\t{0:0.2f}'.format(per_95))\n",
    "    "
   ]
  },
  {
   "cell_type": "code",
   "execution_count": 41,
   "metadata": {
    "slideshow": {
     "slide_type": "subslide"
    }
   },
   "outputs": [
    {
     "name": "stdout",
     "output_type": "stream",
     "text": [
      "Mean:\t2.92\n",
      "Stdev:\t0.71\n",
      "Min:\t1.62\n",
      "Max:\t5.11\n",
      "95th:\t3.99\n"
     ]
    }
   ],
   "source": [
    "mean, std, min_attends, max_attends, per_95 = ed_summary_statistics(ed_data)\n",
    "\n",
    "print_summary_stats(mean, std, min_attends, max_attends, per_95)"
   ]
  },
  {
   "cell_type": "code",
   "execution_count": 26,
   "metadata": {
    "slideshow": {
     "slide_type": "subslide"
    }
   },
   "outputs": [
    {
     "data": {
      "text/plain": [
       "tuple"
      ]
     },
     "execution_count": 26,
     "metadata": {},
     "output_type": "execute_result"
    }
   ],
   "source": [
    "stats = ed_summary_statistics(ed_data)\n",
    "type(stats)"
   ]
  },
  {
   "cell_type": "markdown",
   "metadata": {
    "slideshow": {
     "slide_type": "subslide"
    }
   },
   "source": [
    "#### Step 4: Frequency histogram\n",
    "\n",
    "* NumPy has a `histogram` function.\n",
    "* You need to specify **bins** (frequency ranges) and supply the data"
   ]
  },
  {
   "cell_type": "code",
   "execution_count": 37,
   "metadata": {
    "slideshow": {
     "slide_type": "fragment"
    }
   },
   "outputs": [
    {
     "name": "stdout",
     "output_type": "stream",
     "text": [
      "[1.5 2.  2.5 3.  3.5 4.  4.5 5.  5.5]\n",
      "[ 7 19 18 13 14  2  0  1]\n"
     ]
    }
   ],
   "source": [
    "mybins = np.linspace(start=1.5, stop = 5.5, num=9)\n",
    "freq, bins = np.histogram(ed_data, bins=mybins, density=False)\n",
    "print(bins)\n",
    "print(freq)"
   ]
  },
  {
   "cell_type": "markdown",
   "metadata": {
    "slideshow": {
     "slide_type": "subslide"
    }
   },
   "source": [
    "#### Step 5: Before and After analysis"
   ]
  },
  {
   "cell_type": "code",
   "execution_count": 38,
   "metadata": {
    "slideshow": {
     "slide_type": "fragment"
    }
   },
   "outputs": [
    {
     "name": "stdout",
     "output_type": "stream",
     "text": [
      "***before\n",
      "Mean:\t3.06\n",
      "Stdev:\t0.57\n",
      "Min:\t2.12\n",
      "Max:\t3.99\n",
      "95th:\t3.84\n",
      "***after\n",
      "Mean:\t2.89\n",
      "Stdev:\t0.72\n",
      "Min:\t1.62\n",
      "Max:\t5.11\n",
      "95th:\t3.97\n"
     ]
    }
   ],
   "source": [
    "def sub_group_analysis(data, group_name):\n",
    "    mean, std, min_attends, max_attends, per_95 = ed_summary_statistics(data)\n",
    "    print('***{0}'.format(group_name))\n",
    "    print_summary_stats(mean, std, min_attends, max_attends, per_95)\n",
    "\n",
    "week = 10  # the week the intervention begins\n",
    "sub_group_analysis(ed_data[0:week-1], 'before')\n",
    "sub_group_analysis(ed_data[week:], 'after')"
   ]
  },
  {
   "cell_type": "markdown",
   "metadata": {
    "slideshow": {
     "slide_type": "subslide"
    }
   },
   "source": [
    "#### Step 6: Find the top 5% of weeks\n",
    "\n",
    "* A typical solution is to use a loop.\n",
    "* NumPy privides the `where` function to simplify and speed up the process"
   ]
  },
  {
   "cell_type": "code",
   "execution_count": 40,
   "metadata": {
    "slideshow": {
     "slide_type": "fragment"
    }
   },
   "outputs": [
    {
     "data": {
      "text/plain": [
       "(array([10, 41, 65]),)"
      ]
     },
     "execution_count": 40,
     "metadata": {},
     "output_type": "execute_result"
    }
   ],
   "source": [
    "stats = ed_summary_statistics(ed_data)\n",
    "\n",
    "#95th percentile is contained in index 4\n",
    "per_95 = stats[4]\n",
    "\n",
    "extreme_week = np.where(ed_data >= per_95)\n",
    "\n",
    "print(extreme_week)"
   ]
  },
  {
   "cell_type": "markdown",
   "metadata": {
    "slideshow": {
     "slide_type": "subslide"
    }
   },
   "source": [
    "## Labs\n",
    "\n",
    "* You will get chance to practice using basic NumPy in the Labs\n",
    "* Please have a go before the labs and ask us questions!\n",
    "* You will need to use NumPy in your final assignment - please learn how to use it now!\n",
    "* Please come along to the correct lab!"
   ]
  }
 ],
 "metadata": {
  "celltoolbar": "Slideshow",
  "kernelspec": {
   "display_name": "Python 3",
   "language": "python",
   "name": "python3"
  },
  "language_info": {
   "codemirror_mode": {
    "name": "ipython",
    "version": 3
   },
   "file_extension": ".py",
   "mimetype": "text/x-python",
   "name": "python",
   "nbconvert_exporter": "python",
   "pygments_lexer": "ipython3",
   "version": "3.7.2"
  }
 },
 "nbformat": 4,
 "nbformat_minor": 2
}
